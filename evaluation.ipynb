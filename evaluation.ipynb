{
 "cells": [
  {
   "cell_type": "code",
   "execution_count": 1,
   "metadata": {},
   "outputs": [
    {
     "name": "stderr",
     "output_type": "stream",
     "text": [
      "[nltk_data] Downloading package punkt to /home/nikhil/nltk_data...\n",
      "[nltk_data]   Package punkt is already up-to-date!\n"
     ]
    }
   ],
   "source": [
    "from sklearn.feature_extraction.text import CountVectorizer\n",
    "from sklearn.model_selection import train_test_split\n",
    "from sklearn.metrics.pairwise import cosine_similarity\n",
    "import matplotlib.pyplot as plt\n",
    "import pandas as pd\n",
    "import numpy as np\n",
    "import nltk\n",
    "import torch\n",
    "import torch.nn as nn\n",
    "import torch.nn.functional as F\n",
    "from torch.autograd import Variable\n",
    "import torchvision\n",
    "from nltk.translate.bleu_score import corpus_bleu\n",
    "import time\n",
    "import re\n",
    "\n",
    "nltk.download('punkt') \n",
    "from nltk.tokenize import word_tokenize"
   ]
  },
  {
   "cell_type": "code",
   "execution_count": 2,
   "metadata": {},
   "outputs": [
    {
     "data": {
      "text/html": [
       "<div>\n",
       "<style scoped>\n",
       "    .dataframe tbody tr th:only-of-type {\n",
       "        vertical-align: middle;\n",
       "    }\n",
       "\n",
       "    .dataframe tbody tr th {\n",
       "        vertical-align: top;\n",
       "    }\n",
       "\n",
       "    .dataframe thead th {\n",
       "        text-align: right;\n",
       "    }\n",
       "</style>\n",
       "<table border=\"1\" class=\"dataframe\">\n",
       "  <thead>\n",
       "    <tr style=\"text-align: right;\">\n",
       "      <th></th>\n",
       "      <th>English</th>\n",
       "      <th>Hindi</th>\n",
       "      <th>Original</th>\n",
       "    </tr>\n",
       "  </thead>\n",
       "  <tbody>\n",
       "    <tr>\n",
       "      <th>0</th>\n",
       "      <td>A black box in your car?</td>\n",
       "      <td>आपकी कार में एक ब्लैक बॉक्स?</td>\n",
       "      <td>आपकी कार में ब्लैक बॉक्स?</td>\n",
       "    </tr>\n",
       "    <tr>\n",
       "      <th>1</th>\n",
       "      <td>As America's road planners struggle to find th...</td>\n",
       "      <td>जैसे ही अमेरिका के सड़क योजनार एक ढही सड़क व्य...</td>\n",
       "      <td>जबकि अमेरिका के सड़क योजनाकार, ध्वस्त होते हुए...</td>\n",
       "    </tr>\n",
       "    <tr>\n",
       "      <th>2</th>\n",
       "      <td>The devices, which track every mile a motorist...</td>\n",
       "      <td>ये उपकरण, जो हर मील एक मोटर ड्राइव और ट्रांसमी...</td>\n",
       "      <td>यह डिवाइस, जो मोटर-चालक द्वारा वाहन चलाए गए प्...</td>\n",
       "    </tr>\n",
       "    <tr>\n",
       "      <th>3</th>\n",
       "      <td>The usually dull arena of highway planning has...</td>\n",
       "      <td>आमतौर पर सड़क योजना का कठोर अखाड़ा अचानक भारी ...</td>\n",
       "      <td>आम तौर पर हाईवे नियोजन जैसा उबाऊ काम भी अचानक ...</td>\n",
       "    </tr>\n",
       "    <tr>\n",
       "      <th>4</th>\n",
       "      <td>Libertarians have joined environmental groups ...</td>\n",
       "      <td>लिबर्टी ने पर्यावरण समूहों से जुड़ने के लिए सर...</td>\n",
       "      <td>आपने द्वारा ड्राइव किए गए मील, तथा संभवतः ड्रा...</td>\n",
       "    </tr>\n",
       "    <tr>\n",
       "      <th>5</th>\n",
       "      <td>The tea party is aghast.</td>\n",
       "      <td>चाय पार्टी कम हो गई है।</td>\n",
       "      <td>चाय पार्टी भौचक्की है।</td>\n",
       "    </tr>\n",
       "    <tr>\n",
       "      <th>6</th>\n",
       "      <td>The American Civil Liberties Union is deeply c...</td>\n",
       "      <td>अमेरिकी नागरिक संरक्षण संघ भी कई प्रकार की निज...</td>\n",
       "      <td>अमेरिकी नागरिक स्वतंत्रता संघ भी विभिन्न प्रका...</td>\n",
       "    </tr>\n",
       "    <tr>\n",
       "      <th>7</th>\n",
       "      <td>And while Congress can't agree on whether to p...</td>\n",
       "      <td>और जबकि कांग्रेस आगे बढ़ने पर सहमत नहीं हो सकत...</td>\n",
       "      <td>जबकि कांग्रेस इस बात पर सहमत नहीं हो सकी कि आग...</td>\n",
       "    </tr>\n",
       "    <tr>\n",
       "      <th>8</th>\n",
       "      <td>They are exploring how, over the next decade, ...</td>\n",
       "      <td>वे खोज कर रहे हैं कि अगले दशक में, वे एक ऐसी प...</td>\n",
       "      <td>वे यह खोज कर रहे हैं कि अगले दशक में वे किस तर...</td>\n",
       "    </tr>\n",
       "    <tr>\n",
       "      <th>9</th>\n",
       "      <td>Thousands of motorists have already taken the ...</td>\n",
       "      <td>हजारों मोटरवासियों ने पहले से ही काले बक्से ले...</td>\n",
       "      <td>हजारों मोटर-चालकों ने टेस्ट ड्राइव के लिए पहले...</td>\n",
       "    </tr>\n",
       "  </tbody>\n",
       "</table>\n",
       "</div>"
      ],
      "text/plain": [
       "                                             English  \\\n",
       "0                           A black box in your car?   \n",
       "1  As America's road planners struggle to find th...   \n",
       "2  The devices, which track every mile a motorist...   \n",
       "3  The usually dull arena of highway planning has...   \n",
       "4  Libertarians have joined environmental groups ...   \n",
       "5                           The tea party is aghast.   \n",
       "6  The American Civil Liberties Union is deeply c...   \n",
       "7  And while Congress can't agree on whether to p...   \n",
       "8  They are exploring how, over the next decade, ...   \n",
       "9  Thousands of motorists have already taken the ...   \n",
       "\n",
       "                                               Hindi  \\\n",
       "0                       आपकी कार में एक ब्लैक बॉक्स?   \n",
       "1  जैसे ही अमेरिका के सड़क योजनार एक ढही सड़क व्य...   \n",
       "2  ये उपकरण, जो हर मील एक मोटर ड्राइव और ट्रांसमी...   \n",
       "3  आमतौर पर सड़क योजना का कठोर अखाड़ा अचानक भारी ...   \n",
       "4  लिबर्टी ने पर्यावरण समूहों से जुड़ने के लिए सर...   \n",
       "5                            चाय पार्टी कम हो गई है।   \n",
       "6  अमेरिकी नागरिक संरक्षण संघ भी कई प्रकार की निज...   \n",
       "7  और जबकि कांग्रेस आगे बढ़ने पर सहमत नहीं हो सकत...   \n",
       "8  वे खोज कर रहे हैं कि अगले दशक में, वे एक ऐसी प...   \n",
       "9  हजारों मोटरवासियों ने पहले से ही काले बक्से ले...   \n",
       "\n",
       "                                            Original  \n",
       "0                          आपकी कार में ब्लैक बॉक्स?  \n",
       "1  जबकि अमेरिका के सड़क योजनाकार, ध्वस्त होते हुए...  \n",
       "2  यह डिवाइस, जो मोटर-चालक द्वारा वाहन चलाए गए प्...  \n",
       "3  आम तौर पर हाईवे नियोजन जैसा उबाऊ काम भी अचानक ...  \n",
       "4  आपने द्वारा ड्राइव किए गए मील, तथा संभवतः ड्रा...  \n",
       "5                             चाय पार्टी भौचक्की है।  \n",
       "6  अमेरिकी नागरिक स्वतंत्रता संघ भी विभिन्न प्रका...  \n",
       "7  जबकि कांग्रेस इस बात पर सहमत नहीं हो सकी कि आग...  \n",
       "8  वे यह खोज कर रहे हैं कि अगले दशक में वे किस तर...  \n",
       "9  हजारों मोटर-चालकों ने टेस्ट ड्राइव के लिए पहले...  "
      ]
     },
     "execution_count": 2,
     "metadata": {},
     "output_type": "execute_result"
    }
   ],
   "source": [
    "df=pd.read_csv(\"translations_3000.csv\")\n",
    "df.head(10)"
   ]
  },
  {
   "cell_type": "code",
   "execution_count": 3,
   "metadata": {},
   "outputs": [],
   "source": [
    "eng=df['English'].astype(str)\n",
    "orig=df['Original'].astype(str)\n",
    "pred=df['Hindi'].astype(str)"
   ]
  },
  {
   "cell_type": "code",
   "execution_count": 4,
   "metadata": {},
   "outputs": [
    {
     "data": {
      "text/plain": [
       "0                             A black box in your car?\n",
       "1    As America's road planners struggle to find th...\n",
       "2    The devices, which track every mile a motorist...\n",
       "3    The usually dull arena of highway planning has...\n",
       "4    Libertarians have joined environmental groups ...\n",
       "5                             The tea party is aghast.\n",
       "6    The American Civil Liberties Union is deeply c...\n",
       "7    And while Congress can't agree on whether to p...\n",
       "8    They are exploring how, over the next decade, ...\n",
       "9    Thousands of motorists have already taken the ...\n",
       "Name: English, dtype: object"
      ]
     },
     "execution_count": 4,
     "metadata": {},
     "output_type": "execute_result"
    }
   ],
   "source": [
    "eng.head(10)"
   ]
  },
  {
   "cell_type": "code",
   "execution_count": 5,
   "metadata": {},
   "outputs": [
    {
     "data": {
      "text/plain": [
       "0                            आपकी कार में ब्लैक बॉक्स?\n",
       "1    जबकि अमेरिका के सड़क योजनाकार, ध्वस्त होते हुए...\n",
       "2    यह डिवाइस, जो मोटर-चालक द्वारा वाहन चलाए गए प्...\n",
       "3    आम तौर पर हाईवे नियोजन जैसा उबाऊ काम भी अचानक ...\n",
       "4    आपने द्वारा ड्राइव किए गए मील, तथा संभवतः ड्रा...\n",
       "5                               चाय पार्टी भौचक्की है।\n",
       "6    अमेरिकी नागरिक स्वतंत्रता संघ भी विभिन्न प्रका...\n",
       "7    जबकि कांग्रेस इस बात पर सहमत नहीं हो सकी कि आग...\n",
       "8    वे यह खोज कर रहे हैं कि अगले दशक में वे किस तर...\n",
       "9    हजारों मोटर-चालकों ने टेस्ट ड्राइव के लिए पहले...\n",
       "Name: Original, dtype: object"
      ]
     },
     "execution_count": 5,
     "metadata": {},
     "output_type": "execute_result"
    }
   ],
   "source": [
    "orig.head(10)"
   ]
  },
  {
   "cell_type": "code",
   "execution_count": 6,
   "metadata": {},
   "outputs": [
    {
     "data": {
      "text/plain": [
       "0                         आपकी कार में एक ब्लैक बॉक्स?\n",
       "1    जैसे ही अमेरिका के सड़क योजनार एक ढही सड़क व्य...\n",
       "2    ये उपकरण, जो हर मील एक मोटर ड्राइव और ट्रांसमी...\n",
       "3    आमतौर पर सड़क योजना का कठोर अखाड़ा अचानक भारी ...\n",
       "4    लिबर्टी ने पर्यावरण समूहों से जुड़ने के लिए सर...\n",
       "5                              चाय पार्टी कम हो गई है।\n",
       "6    अमेरिकी नागरिक संरक्षण संघ भी कई प्रकार की निज...\n",
       "7    और जबकि कांग्रेस आगे बढ़ने पर सहमत नहीं हो सकत...\n",
       "8    वे खोज कर रहे हैं कि अगले दशक में, वे एक ऐसी प...\n",
       "9    हजारों मोटरवासियों ने पहले से ही काले बक्से ले...\n",
       "Name: Hindi, dtype: object"
      ]
     },
     "execution_count": 6,
     "metadata": {},
     "output_type": "execute_result"
    }
   ],
   "source": [
    "pred.head(10)"
   ]
  },
  {
   "cell_type": "code",
   "execution_count": 7,
   "metadata": {},
   "outputs": [],
   "source": [
    "Jaccard_sim=[]\n",
    "sim_count=[0]*10\n",
    "ambiguous_eng=[]\n",
    "ambiguous_orig=[]\n",
    "ambiguous_pred=[]\n",
    "best=[]"
   ]
  },
  {
   "cell_type": "markdown",
   "metadata": {},
   "source": [
    "Jaccard Similarity"
   ]
  },
  {
   "cell_type": "code",
   "execution_count": 8,
   "metadata": {},
   "outputs": [
    {
     "name": "stdout",
     "output_type": "stream",
     "text": [
      "[204, 667, 1042, 669, 270, 122, 35, 10, 7, 1]\n"
     ]
    }
   ],
   "source": [
    "for i in range(len(df)):\n",
    "    words_orig=set(orig[i].lower().split())\n",
    "    words_pred=set(pred[i].lower().split())\n",
    "    intersection=words_orig.intersection(words_pred)\n",
    "    union=words_orig.union(words_pred)\n",
    "    sim=float(len(intersection)/len(union))\n",
    "    Jaccard_sim.append(sim)\n",
    "    index=int(sim*10)\n",
    "    if index==10 or index==9:\n",
    "        best.append(eng[i])\n",
    "        index=9\n",
    "    if index==0:\n",
    "        ambiguous_eng.append(eng[i])\n",
    "        ambiguous_orig.append(orig[i])\n",
    "        ambiguous_pred.append(pred[i])\n",
    "    sim_count[index]+=1\n",
    "print(sim_count)"
   ]
  },
  {
   "cell_type": "code",
   "execution_count": 9,
   "metadata": {},
   "outputs": [
    {
     "data": {
      "image/png": "[encoded data removed]",
      "text/plain": [
       "<Figure size 432x288 with 1 Axes>"
      ]
     },
     "metadata": {
      "needs_background": "light"
     },
     "output_type": "display_data"
    }
   ],
   "source": [
    "x_labels = [f\"{i/10:.1f}-{(i+1)/10:.1f}\" for i in range(10)]\n",
    "x_positions = range(len(sim_count))\n",
    "plt.bar(x_positions, sim_count, align='center', alpha=0.7)\n",
    "plt.xticks(x_positions, x_labels, rotation='vertical')\n",
    "\n",
    "plt.xlabel('Jaccard Similarity Value')\n",
    "plt.ylabel('No. of Instances')\n",
    "plt.title('Jaccard Similarity Values for Test Data')\n",
    "plt.tight_layout()\n",
    "plt.show()"
   ]
  },
  {
   "cell_type": "code",
   "execution_count": 10,
   "metadata": {},
   "outputs": [
    {
     "name": "stdout",
     "output_type": "stream",
     "text": [
      "['Politicians are loath to raise the tax even one penny when gas prices are high.', 'The concept is not a universal hit.', 'Crispy Pea Rolls, Surti Plaza, Barsa Dola, Hariwali Patra, Jodhpuri Pakaros, Dakor na Gota nu Chat and Lilava Kachori will be awaiting you in the Special Diwali Thali.', 'Traditional recipes with vegetables such as Surti Udhiyu, Jaisalmer Panch Kuta, Pithaud ki sabji, Jodhpuri Gatta, Sagaru ke kofte, Rabodi Hara Pyaj, Til wale Aloo, Makai Mirch and Jajaria are included.', 'The best way to end a regal meal is with desserts like Apple Jalebi, Tomato Halwa, Walnut Halwa, Dudh Pak, Date Barfi, Dryfruit Halwa, Makai Jajaria and Sutar Saini Kheer.', \"Presenting CAT's trendy footwear and clothing collection.\", 'This created a cold front in the valley.', 'As Diwali is approaching the demand for desserts has increased.', 'The department received a tip off that substandard milk solids were being brought from Madhya Pradesh to Nagpur and stored in soil.', \"Because of this, a good innings at the Bengaluru one-day would be a 'lifeline' for him.\", 'Thomas Oppermann, the MP who heads the parliamentary panel that oversees intelligence, said that if there were an opportunity to hear Mr Snowden as a witness \"without bringing him into danger and completely ruining relations with the US,\" it should be taken.', 'Frontier Airlines to charge for carry-on baggage', 'The plane was full, he said, \"and it boarded lickety-split.\"', 'NSA Blames \"Internal Error,\" Not Hackers, For Website Crash', 'The head of the Urdu Department of Charan Singh University, Dr. Aslam Jamshedpuri, Senior Journalist Shambhunath Shukla and theatre designer Jitendra C. Raj were awarded on this occasion.', 'Bombardier profit dips as plane deliveries, orders fall', 'Revenue dipped marginally to $4.1 billion from $4.2 billion.', 'The backlog in the aerospace division was $32.9 billion as of September 30, unchanged from December 31.', 'After the robbery, the robbers left waving pistols.', 'When an attempt was made to grab the assaulting youth he fired the revolver.', 'The shooting triggered panic in the area.', 'Basharat Ditta, 42, would feed information to crime lord Neil Scarbrough', 'Prosecuting, Anne Whyte said: \"If anyone should know not to the break the law, it is a criminal solicitor.\"', 'According to the Daily Nation, \"even one fine is enough to cripple most FM stations.\"', 'Mr Guebuza told AFP, the French news agency, on Wednesday that Mr Dhlakama saw himself as a \"loser\" who wanted to use \"whatever remains of his forces to try to prove that he can impose on the government his own decisions.\"', 'Jenny Slate has been a cast member on both \"Saturday Night Live\" and \"Parks and Recreation,\" though she is best known for her viral video series \"Marcel the Shell with Shoes On.\"', 'Both Kroll and Slate, as well as other young comedians with distinctive voices (the surreally pessimistic Anthony Jeselnik, the wry, racially focussed W. Kamau Bell), are products of the decentralized world of American comedy.', 'Benchmark U.S. crude for December delivery was down 14 cents at $96.24 a barrel by late morning in Europe in electronic trading on the New York Mercantile Exchange.', 'I will remain the patchwork created by doctors, bruised and scarred.', 'Wallis Simpson may have been intersex.', 'New York City psychiatrist Dr. Jack Drescher, who specializes in issues of gender identification, said the new German law \"sounds like a good thing.\"', '\"Money presented the case as a successful case of transition, but it was not,\" said Drescher.', 'At 18, he was set for a vaginoplasty.', 'What he found out was horrifying.', 'Surgery rendered him infertile.', 'But Anne Tamar-Mattis, executive director for California-based legal group Advocates for Informed Choice, worries that the German law \"invites labeling and stigma.\"', 'Tamar-Mattis said that her organization supports the Australian law because \"it allows adults to choose to be recognized in a third gender.\"', '\"Campaigns don\\'t spend the kind of money on polling and focus groups unless they\\'re seriously considering something,\" Martin said on AC360.', \"It's unclear, however, whether Obama knew his team was exploring the swap.\", 'Fancy a glow-in-the-dark ice cream?', 'So each scoop costs me around £140.', 'The same was the case in Vajirpur, Avantika market, Rohini, Naharpur, Ashok Vihar, the Central Market, and the central market in Prashant Vihar.', \"Women don't have to be sexy professionals anymore; they can also be sexy foods like pizza, hamburgers and carrots.\", \"When it comes to candy, we don't screw around.\", 'The interior has racing seats and six-point harness belts, as well as an intercom system.', 'ASP East Gaurav Garg, Firearms License Branch chief, Anup Kumar, SHO Sultanvind Arun Sharma also went to the firecracker market.', 'For this reason the firecracker vendors were worried.', 'The loss of crores of rupees seemed inevitable.', 'The firefighters were amazing.', 'We are just so grateful and every single one of them was absolutely tremendous.', 'The rep adds: \"Perhaps she is confusing him with someone else.\"', 'So, a non-story, then.', 'Where does this leave Scotland?', 'Early puberty: Growing older sooner', 'A more rapid progression may warrant tests by an endocrinologist to rule out serious problems such as tumors or cysts.', 'Globally, patterns of early puberty appear to be influenced by everything from economic conditions to climate to genes.', '\"We need to be careful about how we identify the true onset of puberty,\" said Dr. Lawrence Silverman, a pediatric endocrinologist at Goryeb Children\\'s Hospital in Morristown, New Jersey.', 'On Thursday people left for the markets and their other destinations wearing sweaters.', 'The jabs had to be given so frequently to keep antibody levels topped up that they proved expensive and impractical.', 'The forest department, giving an evasive answer, said that prima-facie, the tigress seemed to have died a natural death.', 'On Friday an autopsy was conducted on the body of the tigress by CTR veterinarian Bharat and Kotabagh veterinarian Hema Rathore in the presence of the Conservator of Forests, Vivek Pandey, the CTR deputy director, Saket Badola, DFO Kahakasha Naseem, and SDO J.S. Karkee.', 'According to sources, during the autopsy, the internal organs of the tigress were reported to be damaged.', 'Department officials are giving evasive answers about the death of the tigress.', 'Israeli warplanes attack target inside Syria, official says', 'Foreign workers on 457 visas could undergo \"genuineness\" test', 'If the \"genuineness\" criteria was adopted a visa applicant could be scrutinised about \"whether the nomination is genuine in circumstances where the nominee is a relation or personal associate of an owner or relevant person of the sponsoring business.\"', \"Guillaume Nicloux's adaptation of Denis Diderot's novel boasts exceptional production design and period detail but is also heavier going than it should be.\", 'People would be able to visit the park for a daily fee of 1 Rs.', 'The officer concerned will present the files to the Vice-Chancellor.', \"Assad's troops have been battling rebels, many of them linked to al-Qaida groups, in Safira for weeks.\", 'Police commissioner Paramjit Singh said that those arrested and accused are Haiboval Rajiv Agarwal a.k.a. Bintu from Chandan Nagar, from Ghumar Mandi, Kamal Krushna Jaiswal, Gurwinder Singh Jaggi from Kohada and Sonu from Ghumar Mandi.', 'Balbir Singh from the Registrar Office (East) has fled from the scene.', 'Not only that, but they used to destroy the original registry documents and then the false registry documents were updated in the records.', 'Then the accused use to sell the land with counterfeit papers for crores of rupees.', 'Those accused of the counterfeit registrations were especially intersted in the NRIG plots.', '\"He didn\\'t give himself up,\" Ms Corteen said.', 'The restrictions have also become increasingly difficult to enforce as use of the devices has become ubiquitous.', \"Gazprom's Alexei Miller says pipeline in Bulgaria starts new gas era\", 'Bulgarian consumers will receive gas from South Stream at a discounted rate once the entire project starts operating in 2015.', 'Dwarf clowns are sure to make everyone laugh.', 'His mother Donna, 30, said: \"Fenton and Toffee are a great double act.\"', 'Complete strangers in the arena all thought he was so phenomenal they wanted photos taken with him.', 'Mrs Howells said: \"The whole place was electric and everybody was cheering and clapping.\"', 'The judges marked Fenton and Toffee on how well they were turned out and the way they presented in the show ring.', \"China plea paper 'to be overhauled'\", 'It had also \"instructed Yangcheng Evening News Group to undertake a complete rectification of New Express, and recommended they investigate the relevant responsible persons at New Express and immediately revise New Express\\'s leadership team.\"', \"I've realised my wrongdoing.\", 'In Nogales, Arizona, smugglers tap into vast underground drainage canals.', 'Prof Georgio Vallortigara, a neuroscientist from the University of Trento, said: \"It is very well known in humans that the left and right side of the brain are differently involved in stimuli that invokes positive or negative emotions.\"', \"Dog behaviour expert John Bradshaw, a visiting fellow at the University of Bristol's school of veterinary science, said this was not the first study to examine whether left and right were important to canines.\", 'Nathaniel P. Morris is a second-year student at Harvard Medical School.', 'I credit Obama with great and varied accomplishments, from the passage of the Affordable Care Act to our military exit from Iraq, the end of \"don\\'t ask don\\'t tell,\" to the killing of Osama bin Laden.', \"But, after the countless times in which I have found myself defending the Obama administration to colleagues and peers, I've reached a limit to the explanations that I can provide.\", 'Because of this the plaintiffs had to suffer.', 'They are not afraid of the police and administration system any more.', 'The two traders would be the first RBS employees to be suspended in the widening probe that echoes the Libor interbank lending manipulation scandal.', 'The students enrolling in over two dozen courses including B.Tech, MBA, Pharmacy, Biotechnology, Bioscience, Tourism Management and Paramedical Science held on the campus, will be able to elect their representative.', 'Akash Jaiswal, Division Organiser ABVP', 'When the thirteenth day of the Kartik month is celebrated as Dhanteras it is considered to be a sign of a Happy Diwali.', 'Money is neither good nor bad.', 'Only wealth gained with self-respect is long lasting.', 'Then, the bear left Habibullah and hid in the nursery.', 'The official have started reaching out to them too.', 'During this the alumni and students who have achieved the top position in the University are awarded the \"Cash Achievement Award\".', 'The principal guest District Collector, Navdeep Rinwa, and special guest, the Principal of the LLRM medical college, Dr. Pradeep Bharati, appreciated the management initiatives.', 'At the end of the function all the guests were given shawls and mementoes.', 'Arnav Chakravarti and Jagvijay assisted during the function.', 'The PEB director, Tarun Pithore, said, \"If the STF provides us the list of suspected students with proof, then their admission would be cancelled immediately\".', 'Ejaz Jaan, the legislator of the Poonch Assembly Constituency, set up a water cooler in the Gurudwara grounds.', 'The Petroleum Ministry is fully prepared for this.', 'The kerosene quota allocation for Haryana was reduced by 70% and for Uttarakhand it was reduced by almost 40%.', 'This encourages those who carrying out adulteration.', 'This gang ran a fictitious commodity market named Metatrader-5.', 'So far, eight traders from Indore have come forward with complaints to the cyber cell.', 'The agents lured people to join the company with promises of very good returns.', 'Thereafter, some people invested between two to five lakh rupees.', \"Tamim became Bangladesh's highest run scorer in one day cricket.\", 'The bike was found abandoned near the forests of Pipcho.', 'The bike belonged to JRPO postman Chhoti Mehta.', 'The Gate City Hall Circle Office, that earns crores of rupees every day for the Punjab State Power Corporation, is housed in an old ruin of a building.', 'In weightlifting the Sonipat team came first, the Bhiwani team came second and the Rohtak team came in third place.', \"Empowering women at the state level of women's sports has proven to be especially effective.\", 'The friends of Congress released balloons every day.', 'Representatives for Samsung, Huawei, HTC and Rockstar could not immediately be reached.', \"After losing out to Rockstar on the Nortel patents, Google went on to acquire Motorola Mobility for $12.5 billion, a deal driven partly by Motorola's library of patents.\", 'Bhagat will be focusing his efforts in the Assembly constituencies in Chhatisgarh, adjacent to Jharkhand.', 'Irrigation and Public Health Department Assistant Engineer, Ashok Kumar Choudhary, has been transferred from the Kangra sub-division to the Dharamsala zone.', 'The forces are protecting polling stations in Bastar, Rajnandgaon and Dhamtari.', 'During the elections, intelligence reported the possibility of a Naxal attack.', 'Simultaneously detention of goons is also being carried out.', 'Efforts are being made to avoid any untoward incident during the elections and Diwali.', 'Thereafter, he continued the maltreatment.', 'He then continued to mistreat her, constantly under threat.', 'Thought travel agents were a thing of the past thanks to the internet?', 'Flight Centre shares were up 3c at $38.20 yesterday.', 'The U.S. also said that the United Nations communication system is not being monitored.', 'When he died he had Rs 62,000 crores.', \"In this program Sukh Kala Manch, Jaunsaar presented 'Kesari teri yaad mein kashi bhulauni, Jiyendei teri yaddon bira kashi mitauni', 'Veer kesari chand ji ki harut', Jaunsaar ke aradhya dev mahasu devata ki vandana; etc. Cultural programs were presented.\", \"Their luck doesn't always hold out.\", '\"We\\'ve been able to scrub in on surgeries where we help blot blood away or hold tools for Dr. Bwelle,\" O\\'Malley said.', 'But once they arrive in Yaounde, their board, transportation and instruction are covered by Bwelle.', '\"He\\'s a hero, without a doubt,\" O\\'Malley said.', 'As predicted, Govind Singh from Surkhiin Sagar, Arunoday Chaubey from Khurai and Narayan Prajapati from Banda are candidates again.', 'Mahesh Rai of the BJP and Nirmala Sapre of the Congress will face each other in Bina.', \"At present in the Prithvipur Tikamgarh Congress the MLA, Brijendra Singh Rathore, is running against the late former minister's wife, Anita Nayak\", 'Arunoday Chaubey the MLA of Khurai and the MLA Bhupendra Singh of the BJP will go face to face.', \"Govind Rajput, the MLA from Surakhi, is being challenged by the BJP's youth leader, Paril Sahoo.\", 'As the State President Ramsevak Paikara and Secretary Shivratan Sharma, along with many other officials, are contesting the elections, Secretary Rampratap is left to handle the organisation alone.', 'A colourful program was organized by the Association.', \"Obama's Health Care Walk Back\", 'Yesterday, Obama tweaked his original pledge.', 'If no money was paid he was threatened and told his daughter would be kidnapped.', 'Narendra Bahad (21),a resident of Ayodhya City, is the owner of an electronics shop.', 'In the Government Medical College and Hospital (GMCH), Sector 32 ENT department head, Prof. Arjun Das of the National Academy of Medical Sciences New Delhi, has been selected for the fellowship.', 'A $1 million grant was awarded to them to make it possible for them to pursue their research and experiments.', 'In spite of this, the blind faith of some of their devotees continues.', 'The Rural Distrct President of Congress, Jaideep Dhankhad, Jagat Kala, Dharmbeer Vakil, Balaram Dangi, Vikas Sisar, Shamsher Kharak, Anil Sharma, Dr. Sunil Rangi, Deepak Gupta, Dharamraj Sarpanch, Sadhu Baba and Nirmala Rathi were also present at this event.', 'The fans of German-American Model Heidi Klum were shocked at what she had done.', 'The heart-throb of many young men, Heidi was seen in such a manner it was difficult to recognise her.', 'L.N. Mittal, Sachin Tendulkar, and Bollywood actors Anil Kapoor, Aamir Khan and A.R. Rahman has already arrived in Jodhpur on Thursday evening.', 'Students of the Dattatreya city Municipal corporation secondary school demonstrated their imagination power by creating the fictitious fort \"Duttgarh\".', 'Ramesh Saatpute examined the fort.', 'Students like Nikhil Kavle, Darshan Gedekar, Sahil Meshram participated in building the fort.', 'Nagarsevak, Reeta Mule presented messages from well-wishers.', \"Komal's husband Kulvinder is unemployed.\", 'This notice has been placed on the DTO office delivery counter.', 'The Bombay Stock Exchange, Sensex, jumped 130.50 points to reach 21,164.52 points and the National Stock Exchange was up 47.45 points to 6299.15 points.', 'Jagran correspondent, Agra: The Fatehabad road had a deadly day on Thursday when there were several fatal accidents.', 'Due to his death angry villagers blocked the Fatehabad road.', 'The speeding jeep collided with the back of truck.', 'Chauki in-charge Rejister Pal Singh, who was sitting on the front, was killed immediately.', 'The driver Yakub and constable Arvind, Ravindra and Ram Naresh were injured.', 'Demand for gold bars and coins went down due to inflation and the weak economic situation and this has reduced its attraction.', 'The attitude of buyers has changed.', 'The chief of the PSS organises meetings arbitrarily.', 'At about 8:30 PM a rocket suddenly landed on the fireworks counter.', 'Avni is from the Gandhinagar district of Gujrat.', 'The people of the community rushed to the spot.', 'Councillor Anup Sav arrived.', \"Soni, the girl's mother and her uncle Praveen Lal Sharma were asked by phone to come to Jharia.\", 'Both his legs are fractured.', 'The passenger Ganga Devi and the driver, Chandra Kiran the son of Subhash Chand a resident of Syal (Manali), were badly injured.', 'Only Anchal Sonkar was already a former member of the Eastern Assembly for the east constituency.', 'After this declaration of candidates, workers celebrated in their areas.', 'Among the people who went to meet the General Secretary were Ghulam Moinuddin, Manjit Singh, Saroj Pandey, Mahendra Singh, Dharmendra Upadhyay, Lal Bahadur Upadhyay, Ravi Shankar Pandey, Munneshwar Pandey and Girish.', 'No circular was published with information on the date of application for the submission map, which in turn created some confusion among the workers.', 'Because of this, the parents approached the High Court.', 'Parents are shocked by the sudden revision of fees, after just 5 months of the new term.', 'Despite this, the school did not respond and finally the parents had to go to the High Court.', 'During the emergency Congress leader Devant Baruah used the slogan \"Indira is India\".', 'Currently, every small or large party has its own icon.', \"Seth Govinddas, Kamalapati Tripathy put forward 'Bharat'.\", 'Hundreds of connections from subdivisions number one and two from the Cant and Babyal substations have been disconnected.', 'At subdivision number one office the SDO has even put a notice stating \"Do not embarrass us by asking to deposit a part-payment\".', 'Executive Engineer and the SDO of all sub-divisions have been ordered to meet the target.', 'This has reduced the number of unauthorized passengers.', 'The sudden revelation of a group of retired officers will result in many such decisions.', 'Manju Lakshmi won first prize and Shilpa won second prize.', 'When the police reached the spot they found him dead.', 'Even the B.M.O was absent.', 'A low ranking official was handling the horticulture office, while the other officials were missing.', 'This statement caused a big fuss.', 'Gold, silver and utensils are popular purchases on this day.', 'Because of this utensil sellers have already decorated their shops.']\n",
      "['गैस के उच्च मूल्य होने के कारण राजनेता टैक्स में एक पैसा भी वृद्धि करने से परहेज करते हैं।', 'इस विचार को सभी जगहों पर समर्थन नहीं मिला।', 'इस बार की स्पेशल दीवाली थाली में आपको मटर खस्ता रोल, सूरती प्लाजा, बारसा डोला, हरी वाली पात्रा, जोधपुरी पकोड़ा, डकोर ना गोटा नू चाट और लीलवा कचौरी आप का खास तौर पर इतजार कर रहे है।', 'सब्जियों में परंपरागत व्यंजन जैसे की सूरती उधियू, जैसलमेर पंच कुटा, पिथौड़ की सब्जी, जोधपुरी गट्टा, सागरी के कोफते, राबोदी हरा प्याज, तिल वाले आलू, मकई मिरच और जजरिया शामिल किए गए है।', 'मीठे में एैपल जलेबी, टमाटर हलवा, अखरोट हलवा, दूध पाक, खजूर बर्फी, ड्राईफू्रट हलवा, मकई जजारिया और सूतार सैनी खीर आपके इस राजसी भोजन को समाप्त करने का एक बेहतरीन ढग होगा।', 'कैट की ट्रैडी फुटवियर और परिधानों की सिलेक्शन पेश', 'इसके साथ ही पूरी वादी में शीतलहर शुरू हो गई है।', 'दीपावली को देखते हुए मिठाई की मांग बढ़ जाती है।', 'गंदगी में रखे घटिया मावे को मध्यप्रदेश से नागपुर लाने की सूचना विभाग को मिली।', \"ऐसे में उनके लिए बेंगलूर वनडे में अच्छी पारी 'लाइफलाइन' का काम कर सकती है।\", 'थॉमस ऑपरमान, सांसद जो संसदीय समिति के अध्यक्ष हैं , खुफिया जानकारी देखरेख करते हैं. कहा कि अगर गवाह के रूप में श्री स्नो डेन कोसुनने का अवसर  होता \"अमेरिका के साथ संबंधों को पूरी तरह से बर्बाद कर के और खतरे में उनको लाने के बिना,\"तब भी इसे लिया जाना चाहिए.', 'Frontier एयरलाइंस कैरी - ऑन बैगेज का शुल्क लगाएंगे', '\"विमान भरा था और उन्होंने कहा कि यह lickety-split चढ़ा.\"', 'एन.एस.ए. ने वेबसाइट क्रैश होने के लिए हैकर्स के बजाय \"आंतरिक त्रुटि\" पर आरोप लगाया', 'इसमें चरण सिंह विवि के उर्दू विभागाध्यक्ष डा. असलम जमशेदपुरी, वरिष्ठ पत्रकार शंभूनाथ शुक्ला और रंगकर्मी जितेंद्र सी. राज को दिया गया।', 'विमान की डिलीवरी के रूप में Bombardier के मुनाफे में गिरावट, आदेशों में गिरावट', 'राजस्व $4.2 बिलियन डॉलर से $ 4.1 बिलियन मामूली डूबा.', 'एयरोस्पेस डिवीजन में बैकलॉग 30 सितम्बर पर  $32.9 बिलियन था,31 दिसंबर से कोई बदलाव नहीं.', 'लूटपाट के बाद बदमाश तमंचे लहराते हुए फरार हो गए।', 'मारपीट कर रहे युवक को पकड़ने की कोशिश की तो उसने रिवाल्वर से फायरिंग कर दी।', 'फायरिंग से इलाके में सनसनी फैल गई।', '42 वर्षीय बशरत डिट्टा कुख्यात अपराधी नील स्कारबोरो को सूचना दिया करता था', 'अभियोजन पक्ष की ओर से एनी व्हाइट ने कहा किः \"आपराधिक अधिवक्ता को कानून नहीं तोड़ने के बारे में सबसे अच्छी तरह पता होना चाहिए।\"', 'डेली नेशन के अनुसार \"अधिकांश एफ.एम. स्टेशनों की नींव हिलाने के लिए एक अर्थदंड ही पर्याप्त है।\"', 'श्री जीबुझां ने बुधवार को एएफपी, फ्रांसीसी समाचार एजेंसी से कहा कि श्री ढाकामा ने खुद को एक \"हारे\" रूप में  देखा था  \"जो भी हो उसकी सेनाओं के साबित करने की कोशिश करने  बनी हुई है कि वह सरकार पर  अपने ही निर्णय को लागू कर सकते हैं .\"', 'जेनी स्लेट \"सैटरडे नाइट लाइव\" तथा \"पार्क्स एंड रिक्रिएशन\" की कास्ट मेम्बर रही हैं, यद्यपि वे अपनी वॉयरल वीडियो सीरीज़ \"मार्सल दि शेल विद शूज ऑन\" के लिए सबसे अच्छी तरह जानी जाती हैं।\"', 'क्रॉल और स्लेट समेत, अलग-अलग आवाज वाले अन्य नौजवान कॉमेडियन (बिलकुल अलग सी निराशा भरी आवाज वाले एंथनी जेसेलनिक, व्यंग्यपूर्ण, जातीयता पर केन्द्रित डब्लू. कमाऊ बेल) अमेरिकी कॉमेडी की विकेन्द्रित दुनिया के उत्पाद हैं।', 'दिसंबर डिलीवरी के लिए बेंचमार्क अमेरिकी कच्चे न्यूयॉर्क मर्केंटाइल एक्सचेंज पर इलेक्ट्रॉनिक ट्रेडिंग में यूरोप में देर सुबह तक $ 96.24 प्रति बैरल पर डाउन 14 सेंट था.', 'मैं चिकित्सकों द्वारा बनाया गया जख्मी, दागदार पैबन्द बना रहूँगा।', 'हो सकता है कि वैलिस सिम्पसन इंटरसेक्स रहे हों।', 'न्यू यॉर्क शहर के मनोवैज्ञानिक डॉ. जैक ड्रेशर जो लिंग-पहचान के मामलों के विशेषज्ञ हैं, उन्होंने कहा कि जर्मनी का नया कानून \"अच्छी चीज प्रतीत होता है।\"', 'ड्रेशर ने कहा, \"मनी ने उस मामले को अवस्थांतर के सफल मामले के रूप में प्रस्तुत किया, लेकिन वह ऐसा हुआ नहीं।\"', '18 वर्ष की आयु में, उसके साथ वैजाइनोप्लास्टी होने वाली थी।', 'इससे उसे भयावह सच्चाई का पता चला।', 'शल्य-चिकित्सा के कारण वह बांझ हो गया।', 'लेकिन, कैलीफ़ोर्निया-आधारित के विधिक समूह एडवोकेट्स फॉर इन्फॉर्म्ड च्वाइस की अधिशासी निदेशक एनी टैमर-मैटिस चिंता व्यक्त करती हैं कि जर्मनी का कानून \"चिप्पी तथा कलंक आमंत्रित करता है।\"', 'टैमर-मैटिस ने कहा कि उनका संगठन ऑस्ट्रेलियाई कानून का समर्थन इसलिए करता है क्योंकि \"यह वयस्कों को तीसरे लिंग में पहचाने जाने की अनुमति देता है।\"', '\" अभियान पैसो की तरह  मतदान और ध्यान केंद्रित समूहों पर नहीं खर्च करते जब तक कि वे गंभीरता से कुछ पर विचार कर रहे हैं,\" मार्टिन ने एसी360 पर कहा।', 'यह अस्पष्ट है, हालाकी, क्या ओबामा जानते थे की उनकी टीम बदलाव  ढूँढ  रही है।', 'ग्लो- इन- दी- डार्क आइस क्रीम पसंद है?', 'तो प्रत्येक स्कूप की लागत मुझे आती है 140 पाउंड के आसपास ।', 'यही हाल वजीरपुर, अवंतिका रोहिणी, नहारपुर, अशोक विहार सेंट्रल मार्केट, व प्रशांत विहार स्थित सेंट्रल मार्केट में रहा।', 'महिलाओ को वैश्यावृति नही करनी पड़ती; क्योकि वो तो सेक्सी खाना जेसे की पिज़्ज़ा, हॅमबर्गर्स और गाजर भी है', 'जब कैंडीकी बात आती है तब हम आसपास नही देखते।', 'इसमें इंटीरियर में रेसिंग सीट हैं तथा छह-बिंदु वाली हार्नेस बेल्ट हैं, और साथ ही इंटरकॉम सिस्टम भी है।', 'एसीपी ईस्ट गौरव गर्ग, असलहा लाइसेंस ब्रांच के इंचार्ज अनूप कुमार, एसएचओ सुल्तानविंड अरुण शर्मा पटाखा मार्केट में पहुंचे।', 'इसके चलते पटाखा व्यापारी परेशान हैं।', 'उन्हें करोड़ों रुपये का घाटा सामने नजर आ रहा है।', 'अग्निशामक दल ने बहुत बेहतरीन कार्य किया।', 'हम उनके अहसानमंद हैं, तथा वे सभी बेहतरीन थे।', 'प्रतिनिधि ने यह भी कहाः  \"संभवतः पैरी, किसी अन्य व्यक्ति की गलतफहमी में उनके बारे में कह रही हैं\"', 'इसलिए, फिर, अ-कहानी।', 'इन सबसे पश्चात स्कॉटलैंड का क्या होगा?', 'समय से पहले यौवनः जल्दी बड़ा होना', 'अधिक द्रुत प्रगति की स्थिति में एन्डोक्राइनोलॉजिस्ट द्वारा जांच की आवश्यकता हो सकती है ताकि ट्यूमर्स अथवा सिस्ट जैसी गम्भीर समस्याओं की संभावनाओं को दूर किया जा सके।', 'वैश्विक स्तर पर, समय-पूर्व यौवन का प्रतिरूप, आर्थिक स्थितियों से लेकर मौसम व जीन्स तक, सभी चीजों से प्रभावित प्रतीत होते हैं।', 'मॉरिसटाउन, न्यूजर्सी में गॉरयेब चिल्ड्रेन्स हॉस्पिटल में बाल चिकित्सक एन्डोक्राइनोलॉजिस्ट, डॉ. लॉरेन्स सिल्वरमैन कहते हैं, \"हमें इसके बारे में सावधान रहने की आवश्यकता है कि हम यौवन के वास्तविक आरंभ की किस तरह से पहचान करते हैं।\"', 'वीरवार को लोग स्वेटर पहन कर बाजारों व अपने गंतव्य की ओर निकले।', 'उसमें नियमित अन्तराल पर खुराक देना होता था, ताकि एन्टीबॉडीज का स्तर बना रहे, लेकिन वह महंगा तथा अव्यवहारिक साबित हुआ।', 'वन विभाग इस बारे में गोलमोल जवाब देते हुए प्रथम दृष्टया बाघिन की मौत को स्वाभाविक बता रहा है।', 'शुक्रवार को वन संरक्षक विवेक पांडे, सीटीआर के उपनिदेशक साकेत बडोला, डीएफओ कहकशा नसीम, एसडीओ जीएस कार्की की मौजूदगी में सीटीआर के पशु चिकित्सक भरत व कोटाबाग की पशु चिकित्सक हेमा राठौर द्वारा बाघिन के शव का पोस्टमार्टम किया गया।', 'सूत्रों की मानें तो पोस्टमार्टम के दौरान बाघिन के आतंरिक शव खराब होना बताया जा रहा है।', 'बाघिन की मौत पर विभागीय अधिकारी गोलमाल जवाब देते रहे।', 'अधिकारियो का कहना है कि  इजरायली लड़ाकू विमानों ने सीरिया में धावा बोला ।', '457 वीजा पर विदेशी कर्मचारी \"प्रमाणिकता\" परीक्षण से गुजर सकते है', 'यदि \"प्रमाणिकता\" मानदण्ड को अपनाया जाता तो, वीजा आवेदक की जांच इस बारे में की जा सकती है कि \"क्या नामांकन ऐसी परिस्थितियों में सच्चा है, जिसमें नामांकित व्यक्ति, वीजा प्रायोजित करने वाले व्यक्ति के स्वामी अथवा सुसंगत व्यक्ति का सम्बन्धी अथवा व्यक्तिगत साथी है’।', 'डेनिस डिडेरॉट के उपन्यास के गिलौम निकलौक्स द्वारा रूपांतरण में बेहतरीन प्रोडक्शन डिजाइन तथा समय अवधि का विवरण है, लेकिन यह जितना होना चाहिए था, उससे कहीं अधिक हो गया है।', 'रोजाना एक रुपये की फीस पर लोग बगीचे में जाकर सैर कर सकेंगे।', 'संबंधित अधिकारी उनकी फाइनल कुलपति तक पहुंचाएंगे।', 'असद का सैन्य दल सफीरा में कई सप्ताह तक विद्रोहियों से युद्ध करता रहा, जिनमें से कई लोग अल-कायदा समूहों से सम्बन्धित थे।', 'पुलिस कमिश्नर परमजीत सिंह गिल ने बताया कि गिरफ्तार आरोपियों में हैबोवल स्थित चंद्र नगर का राजीव अग्रवाल उर्फ बिंट्टू, घुमार मंडी का कमल कृष्ण जसवाल, कोहाड़ा का गुरिंदर सिंह गग्गी और घुमार मंडी का सोनू शामिल हैं।', 'रजिस्ट्रार दफ्तर (पूर्वी) का बलबीर सिंह मौके से फरार हो गया है।', 'यही नहीं उसके बाद असली रजिस्ट्री को गायब कर जाली रजिस्ट्री रिकॉर्ड में चढ़ा देते थे।', 'इसके बाद आरोपी जाली कागजात पर जमीन को करोड़ों रुपये में बेच देते थे।', 'जाली रजिस्ट्री तैयार करवाने वाले आरोपी एनआरआइजी की जमीनों पर खास नजर रखते थे।', 'सुश्री कोर्टीन कहती हैं, \"उसने आत्मसमर्पण नहीं किया।\"', 'इन प्रतिबंधों का प्रवर्तन कर पाना और भी कठिन इसलिए होता जा रहा है क्योंकि डिवाइस का उपयोग सर्वव्यापक है।', 'गैजप्रोम के एलेक्सी मिलर ने बुल्गारिया में पाइपलाइन को एक नये दौर की शुरूआत बताया', 'वर्ष 2015 में इस पूरी परियोजना का संचालन आंरभ होने के पश्चात बुल्गारियाई ग्राहक साउथ स्ट्रीम से छूट वाली दरों पर गैस प्राप्त करेंगे।', 'बौने जोकर दर्शकों को ठहाके लगाने पर मजबूर कर देंगे।', 'उसकी 30 वर्षीय माँ डोना ने कहाः \"फेन्टन तथा टॉफी शानदार जोड़ी है।\"', 'इस रंगभूमि में सबसे अलग, वह सभी को इतना अद्भुत लगा कि वे उसके साथ फोटो खिंचवाना चाहते थे।', 'श्रीमत हॉवेल्स ने कहाः \"पूरा स्थान उत्साह से भरा हुआ था, तथा प्रत्येक व्यक्ति खुशी मना रहा था तथा ताली बजा रहा था।\"', 'निर्णयकर्ताओं ने, फेन्टन और टॉफी के प्रदर्शन के तरीके तथा शो रिंग में उनकी प्रस्तुति के तरीके को देखते हुए अंक दिए।', 'दलील देने वाले चीनी अखबार का \"जीर्णोद्धार\" होगा', 'इसने \"यांगचेंग ईवनिंग न्यूज ग्रुप को न्यू एक्सप्रेस का एक पूर्ण सुधार करने का निर्देश दिया था, न्यू एक्सप्रेस में इसके लिए जिम्मेदार लोगों की जांच करने तथा न्यू एक्सप्रेस के नेतृत्व दल को तत्काल संशोधित करने की संस्तुति की थी।\"', 'मुझे अपनी गलतियों का अहसास हो गया है।', 'नोगलेस, एरिजोना में तस्कर, विशाल भूमिगत जल निकासी नहरों का लाभ उठाते हैं।', 'यूनिवर्सिटी ऑफ ट्रेन्टो से न्यूरोसाइंटिस्ट प्रोफेसर जॉर्जिया वेल्लरटिगरा ने बतायाः \"मनुष्यों में यह सभी अच्छी तरह जानते हैं कि मस्तिष्क के बाएं और दाएं भाग उस उत्तेजना में अलग-अलग ढंग से शामिल होते हैं जो सकारात्मक या नकारात्मक भावनाओं को उत्पन्न करती है।\"', 'यूनिवर्सिटी ऑफ ब्रिस्टल के स्कूल ऑफ वेटरनेरी साइंसेज़ के अतिथि फ़ेलो, कुत्तों के व्यवहार के विशेषज्ञ जॉन ब्रेडशॉ ने बताया कि इसकी जाँच करने के लिए यह पहला अध्ययन नहीं है कि कुत्तों के लिए बायाँ या दायाँ भाग महत्वपूर्ण है या नहीं।', 'नैथेनियल पी. मोरिस हार्वर्ड मेडिकल स्कूल में द्वितीय वर्ष के छात्र हैं।', 'मैने ओबामा को बहुत सी उपलब्धियों का श्रेय देता हूँ, अफोर्डेबल केयर एक्ट से लेकर ईराक से हमारी सेना की वापसी, \"न पूछो न बताओ\" की समाप्ति लेकर ओसामा बिन लादेन को मारे जाने तक।', 'लेकिन असंख्या बार जिसमें मैने अपने आपको सहकर्मियों एवं साथियों के समक्ष ओबामा प्रशासन का पक्ष लेते-लेते मेरे पास उत्तर खत्म हो ये जोकि मैं उन्हें दे सकता।', 'जिससे वादकारियों को परेशानी उठानी पड़ी।', 'उन पर पुलिस एवं प्रशासनिक व्यवस्था का कोई खौफ नहीं रह गया है।', 'ये दोनों ट्रेडर्स RBS के प्रथम कर्मचारी होंगे, जिन्हें लिबॉर अंतरबैंक ऋण हेरफेर कांड की पुनरावृत्ति प्रतीत होने वाले मामले की जांच-पड़ताल आगे बढ़ने के साथ निलम्बित किया गया है।', 'परिसर में संचालित बीटेक, एमबीए, फार्मेसी, बायोटेक्नोलॉजी, बायोसाइंस, टूरिज्म मैनेजमेंट व पैरामेडिकल साइंस समेत करीब दो दर्जन कोर्स में प्रवेश लेने वाले छात्र इस साल अपना प्रतिनिधि चुन सकेंगे।', 'आकाश जायसवाल, विभाग संयोजक एबीवीपी', 'ऐसे में जब कार्तिक मास की कृष्ण पक्ष की त्रयोदशी धनत्रयोदशी के रूप मे मनाई जाने वाले धनतेरस पर खरीदारी शुभ दीपावली के संकेत हैं।', 'कोई भी धन अच्छा-बुरा नहीं होता।', 'वही धन-संपदा टिकाऊ होती है जिसके साथ सम्मान जुड़ा हुआ हो।', 'इस पर वह हबीबुल्ला को छोड़ नर्सरी में छिप गया।', 'उनके पास अधिकारी पहुंचने लगे हैं।', \"इसमें संस्थान के पूर्व छात्र-छात्राओं का तथा विवि स्तर पर शीर्ष स्थान प्राप्त करने वाले छात्र-छात्राओं को 'कैश एचीव अवार्ड' से सम्मानित किया गया।\", 'मुख्य अतिथि जिलाधिकारी नवदीप रिणवा व विशिष्ट अतिथि एलएलआरएम मेडिकल कालेज के प्राचार्य डा. प्रदीप भारती ने प्रबंध तंत्र के कार्यो को सराहा।', 'समापन पर सभी अतिथियों को शॉल ओढ़ाकर व स्मृति चिह्न भेंटकर सम्मानित किया गया।', 'अर्णव चक्रवर्ती व जगविजय ने सहयोग किया।', 'व्यापमं संचालक तरुण पिथोरे का कहना है कि अगर एसटीएफ सबूत के साथ संदिग्ध छात्रों की सूची सौंपती है तो उनके प्रवेश तत्काल निरस्त होंगे।', 'पुंछ विधानसभा क्षेत्र के विधायक एजाज जान ने गुरुद्वारा परिसर में वाटर कूलर का उद्घाटन किया।', 'इस बारे में पेट्रोलियम मंत्रालय ने पुख्ता तैयारी कर ली हैं।', 'उत्ताराखंड के आवंटन में 70 फीसद तो हरियाणा का केरोसिन कोटा लगभग 40 फीसद घटाया गया।', 'इससे मिलावट करने वालों को बढ़ावा मिलता है।', 'यह गिरोह मेटाट्रेडर-5 के नाम से एक फर्जी कमोडिटी मार्केट संचालित करता था।', 'सायबर सेल में शिकायत करने वाले फिलहाल इंदौर के आठ व्यापारी सामने आए हैं।', 'एजेंट लोगों को ज्यादा मुनाफे का लालच देकर इस कंपनी से जुड़ने की सलाह देते थे।', 'इसके बाद किसी से दो लाख तो किसी से पांच लाख रुपए तक जमा करवाए जाते थे।', 'तमीम वनडे बांग्लादेश के सर्वाधिक रन बनाने वाले बल्लेबाज बन गए हैं।', 'बाइक पिपचो के जंगल के नजदीक लावारिस हालत में खड़ी थी।', 'यह बाइक झरपो के डाकपाल छोटी मेहता की थी।', 'पंजाब स्टेट पावर कार्पोरेशन को प्रतिदिन करोड़ों रुपए कमाकर दे रहा हाल गेट सिटी सर्किल ऑफिस खंडहर बिल्डिंग में चल रहा है।', 'भारत्तोलन में सोनीपत की टीम ने पहला, भिवानी की टीम ने दूसरा और रोहतक की टीम ने तीसरा स्थान प्राप्त किया।', 'विशेषकर महिलाओं के राज्यस्तरीय खेल महिलाओं के सशक्तीकरण की दिशा में कारगर सिद्ध होंगे।', 'कांग्रेसी मित्र आए दिन गुब्बारे छोड़ते रहते हैं।', 'सैमसंग, हुवाई, एच.टी.सी. तथा रॉकस्टार के प्रतिनिधियों से तुरन्त सम्पर्क नहीं किया जा सका।', 'नॉरटेल पेटेन्ट्स में रॉकस्टार से हारने के पश्चात, गूगल ने 12.5 बिलियन डॉलर में मोटोरोला मोबिलिटी को खरीद लिया, जिसका एक मुख्य कारण मोटोरोला के पास पेटेन्ट्स की एक लम्बी सूची होना था।', 'भगत झारखंड से सटे छत्तीसगढ़ के विधानसभा क्षेत्रों में खुद को केंद्रित करेंगे।', 'सिंचाई एवं जनस्वास्थ्य महकमे में असिस्टेंट इंजीनियर अशोक कुमार चौधरी का तबादला कांगड़ा सब डिवीजन से धर्मशाला जोन किया में है।', 'बस्तर, राजनांदगांव, धमतरी के मतदान केंद्रों पर फोर्स की नजर है।', 'चुनाव के दौरान नक्सली हमले की आशंका से इंटेलिजेंस ने अवगत कराया है।', 'साथ ही गुंडे बदमाशों की धरपकड़ की जा रही है।', 'चुनाव व दिवाली में किसी तरह की अप्रिय घटना न हो इसका प्रयास किया जा रहा है।', 'इसके बाद वह लगातार दुराचार करता रहा।', 'इसके बाद वह धमकी देकर लगातार दुराचार करता रहा।', 'तो आपको ट्रैवेल एजेन्ट बीती हुई सदी के लगते थे, इन्टरनेट को धन्यवाद कहिए?', 'फ्लाइट सेन्टर के शेयर कल 3 सेंट की बढ़ोत्तरी के साथ 38.20 डॉलर पर थे।', 'अमेरिका ने यह भी कहा है कि संयुक्त राष्ट्र के संचार व्यवस्था की निगरानी नहीं की जाती है।', 'इस समय वे 62000 करोड़ रुपए के मालिक थे।', \"कार्यक्रम में वीर सुख कला मंच जौनसार की ओर से 'केसरी तेरी याद मैं कशी भुलउणी, जियदेंई तेरी यादों बीरा कशी मिटाउणी', 'वीर केसरी चंद जी की हारुत', 'जौनसार के आराध्य देव महासु देवता की वंदना' आदि एक से बढ़कर एक सांस्कृतिक कार्यक्रम पेश किए गए।\", 'कभी-कभी किस्मत उनके साथ नहीं भी होती।', 'ओ\\'मैली ने कहा, \"जिन-शल्य चिकित्सा में हम डॉ. वेल के लिए औजार पकड़ने अथवा रक्त के धब्बे साफ करने में सहायता करते हैं, उनमें हम प्रायोगिक अनुभव प्राप्त करने में सक्षम रहे हैं।\"', 'लेकिन यौंडे पहुंचने के पश्चात उनका रहना आना-जाना, तथा निर्देशों का खर्च वेल उठाते हैं।', 'ओ\\'मैली कहती हैं, \"इसमें कोई संदेह नहीं कि वे हीरो हैं।\"', 'उम्मीद के मुताबिक ही सागर में सुरखी से गोविंदसिंह राजपूत, खुरई से अरुणोदय चौबे, बंडा से नारायण प्रजापति को फिर प्रत्याशी बनाया गया है।', 'बीना में भाजपा के महेश राय एवं कांग्रेस की निर्मला सप्रे आमने सामने हैं।', 'टीकमगढ़ के पृथ्वीपुर में मौजूदा कांग्रेस विधायक बृजेंद्र-सिंह राठौर का मुकाबला पूर्व मंत्री स्व. सुनील नायक की पत्नी अनीता नायक से होगा।', 'खुरई से विधायक अरुणोदय चौबे व भाजपा सांसद भूपेंद्रसिंह आमने सामने हैं।', 'सुरखी से विधायक गोविंद राजपूत का मुकाबला भाजपा की युवा नेत्री पारुल साहू कर रही हैं।', 'प्रदेश अध्यक्ष रामसेवक पैकरा और महामंत्री शिवरतन शर्मा समेत कई पदाधिकारियों के चुनाव लड़ने की वजह से संगठन महामंत्री रामप्रताप अकेले पड़ रहे हैं।', 'इस दौरान एसोसिएशन ने रंगारंग कार्यक्रम का आयोजन किया।', 'ओबामा का स्वास्थ्य सेवा प्रस्ताव वापस लिया गया', 'कल ओबामा ने अपने वास्तव संदेश में परिवर्तन किया।', 'रुपए नहीं देने पर पुत्री को उठाने की धमकी दी गई है।', 'अयोध्या नगर निवासी नरेंद्र बहाड़ (21) की इलेक्ट्रानिक्स की दूकान है।', 'गवर्नमेंट मेडिकल कालेज एवं अस्पताल (जीएमसीएच) सेक्टर 32 के ईएनटी विभाग के प्रमुख प्रो. अर्जुन दास को नेशनल एकेडमी ऑफ मेडिकल साइंसिस नई दिल्ली की फेलोशिप के लिए चुना गया है।', 'बतौर पुरस्कार राशि उन्हें 1 मिलियन डॉलर की सहायता राशि दी गई है, ताकि वे अपने रिसर्च और प्रयोगों को आगे बढ़ा सकें।', 'इस पर भी उनके कई भक्तों की अंधश्रद्धा खत्म ही नहीं हो रही।', 'इस दौरान कांग्रेस के ग्रामीण जिला अध्यक्ष जयदीप धनखड़, जगत काला, धर्मबीर वकील, बलराम दांगी, विकास सीसर, शमशेर खरक, अनिल शर्मा, डॉ. सुनील रांगी, दीपक गुप्ता, धर्मराज सरपंच, साधु बाबा और निर्मला राठी मौजूद रहे।', 'जर्मन-अमेरिकन मॉडल हीदी क्लम ने जो किया उसे देखकर उनके प्रशंसक भी भौंचक्के रह गए हैं।', 'जवां दिलों की धडक़न हीदी नजर आईं इस अंदाज में कि उन्हें पहचान पाना ही मुश्किल था।', 'एल.एन.मित्तल, सचिन तेंदुलकर, फिल्म अभिनेता अनिल कपूर, आमिर खान, ए.आर.रहमान गुरुवार शाम ही जोधपुर पहुंचे गए।', \"महानगर पालिका अंतर्गत दत्तात्रय नगर माध्यमिक स्कूल के विद्यार्थियों ने काल्पनिक किला 'दत्तगढ़' बनाकर अपनी कल्पनाशक्ति का परिचय दिया।\", 'किले का परीक्षण रमेश सातपुते ने किया।', 'किला निर्माण में निखिल कावले, दर्शन गेड़ेकर, साहिल मेश्राम इन विद्यार्थियों ने सहभाग लिया।', 'नगरसेवक रीता मुले ने सदिच्छा भेंट दी।', 'कोमल का पति कुलविंदर कुछ कामकाज नहीं करता।', 'यह नोटिस लगा है डीटीओ ऑफिस के डिलीवरी काउंटर पर।', 'बाम्बे स्टॉक एक्सचेंज का सेंसेक्स 130.50 अंक उछलकर 21,164.52 अंक के स्तर पर और नेशनल स्टॉक एक्सचेंज का निफ्टी 47.45 अंक ऊपर 6299.15 अंक के स्तर पर जा चढ़ा।', 'जागरण संवाददाता, आगराः फतेहाबाद रोड पर गुरुवार रात हादसों की शक्ल में मौत मंडराती रही।', 'उनकी मौत से गुस्साए ग्रामीणों ने फतेहाबाद रोड पर जाम लगा दिया।', 'तेज रफ्तार जीप ट्रक के पिछले हिस्से में जा घुसी।', 'आगे बैठे चौकी प्रभारी रजिस्टर पाल सिंह की घटनास्थल पर ही मौत हो गई।', 'चालक याकूब और सिपाही अरविंद, रविंद्र व रामनरेश घायल हो गए।', 'महंगाई की मार और कमजोर इकनॉमिक सिनारियो के चलते गोल्ड बार्स और कॉइन की मांग सुस्त रहने से इसकी चमक घटी।', 'खरीदारों के रुख में बदलाव आया है।', 'प्रमुख पंसस की बैठक मनमाने ढंग से करते हैं।', 'सायं करीब साढ़े आठ बजे अचानक एक राकेट पटाखों के काउंटर पर आ गिरा।', 'अवनि गुजरात के जिले गांधीनगर की रहने वाली हैं।', 'मुहल्ले वाले भी भागे।', 'पार्षद अनूप साव पहुंचे।', 'बच्ची की मां सोनी व मामा प्रवीण लाल शर्मा से मोबाइल पर बात कर उन्हें झरिया बुलाया।', 'उसकी दोनों टांगों में फ्रैक्चर बताया जा रहा है।', 'टैक्सी में बैठी गंगा देवी व चालक चंद्र किरण पुत्र सुभाष चंद निवासी स्याल (मनाली) को गंभीर चोटें आई।', 'केवल अंचल सोनकर पूर्व क्षेत्र से पूर्व विधायक रह चुके हैं।', 'पार्टियों के प्रत्याशियों के नामों की घोषणा होने के बाद क्षेत्र के कार्यकर्ताओं द्वारा खुशियां मनाई गईं।', 'महासचिव से मिलने गए प्रतिनिधिमंडल में गुलाम मोइनुद्दीन, मंजीत सिंह, सरोज पांडे, महेन्द्र सिंह, धर्मेन्द्र उपाध्याय, लाल बहादुर उपाध्याय, रवि शंकर पांडेय, मुनेश्वर पांडेय व गिरीश शामिल रहे।', 'नक्शा जमा करने के आवेदन की तिथि में बढ़ोत्तरी से संबंधित सर्कुलर जारी नहीं होने को लेकर भी असमंजस की स्थिति कायम है।', 'इसके बाद अभिभावकों ने माननीय हाईकोर्ट का दरवाजा खटखटाया है।', 'नया सत्र शुरू होने के पांच माह बाद एकाएक फीस बढ़ाने से अभिभावक सकते में आ गए है।', 'इसके बावजूद स्कूल प्रबंधन कान पर जूं न रेंगने के चलते अभिभावकों ने आखिरकार हाईकोर्ट का दरवाजा खटखटाया है।', \"आपातकाल में कांग्रेसी नेता देवकांत बरुआ ने 'इंदिरा इज इंडिया' का सिद्धांत रखा था।\", 'संप्रति हरेक छोटे-बड़े दल के अपने महापुरुष हैं।', \"सेठ गोविंददास, कमलापति त्रिपाठी आदि ने 'भारत' पर जोर दिया।\", 'छावनी के सब डिविजन नंबर एक, दो व बब्याल सब स्टेशन की ओर से सैंकड़ों की तादाद में कनेक्शन काटे जा चुके हैं।', \"सब डिविजन नंबर एक में एसडीओ ने बकायदा अपने दफ्तर में 'पार्ट पेमेंट जमा कराने की बात कहकर शर्मिदा न करें' का नोटिस लगा दिया है।\", 'इसीलिए सभी सब डिविजन के एक्सईएन व एसडीओ को यह टारगेट पूरे करने के आदेश दिए गए हैं।', 'इस कारण अवैध रूप से यात्रा करने वालों में कमी आई है।', 'अफसरों के समूहों को सेवानिवृत्ति के बाद अचानक मिलने वाले ज्ञान के कारण देश को इस तरह के और भी फैसले सुनने को मिलेंगे।', 'मंजू लक्ष्मी प्रथम व शिल्पा ने द्बितीय स्थान प्राप्त किया।', 'घटना स्थल पर पहुंचने पर पता चला कि उसकी मौत हो चुकी है।', 'बीएमओ खुद भी ड्यूटी पर हाजिर नहीं थी।', 'बागवानी व भेड़ पालन विभाग में भी कुछ चपरासियों को छोड़ कर अन्य सभी कर्मचारियों को गैर हाजिर पाया गया।', 'इस बयान को लेकर खासा बवाल मचा था।', 'इस दिन विशेष रूप से सोना-चांदी व बर्तनों की खरीददारी होती है।', 'जिसके चलते बाजार में बर्तन विक्रेताओं की दुकानें सज चुकी हैं।']\n",
      "['जब गैस की कीमत ज्यादा होती है तो कर को भी बढ़ाने के लिए पोलीदी जाती है।', 'संकल्प एक वैश्विक हिट नहीं है।', 'स्\\u200dथाप पेस्\\u200dथा, स्\\u200dथाल, हरीवा, हरीवाप, जोध्\\u200dयपुरी पारोस, देवदासी नृत्\\u200dय नृत्\\u200dय और ल्\\u200dय कध्\\u200dय काप, विशेष दिली स्\\u200dथाय्\\u200dय में आपका इंतजार कर रहा होगा।', 'स्\\u200dत: स्\\u200dतव्\\u200dय उच्\\u200dय, जयलल्\\u200dयक केक, पीथ्\\u200dद्रा, जोध्\\u200dयपुरी गधा, राब्\\u200dधु, राब्\\u200dयद, त्\\u200dथाल और ज्\\u200dयद के साथ पारंपरिक तकनीक शामिल हैं ।', 'एक शाही भोजन का अंत करने का सबसे अच्छा तरीका है, एपेल जेलब, तोमाधा, पटूधा, तिथि का बागी, खेती का बागा और सुशोक केले के जैसे व्यंजनों के साथ-साथ है।', 'सी.टी. के उद्योग और कपड़े संग्रह को प्रस्तुत करते हुए।', 'इसने घाटी में एक ठंडा अग्रभाग बनाया।', 'जैसे ही दिली व्यंजनों के लिए मांग के निकट आ रही है, तब भी बढ़ती जा रही है।', 'विभाग को एक प्रस्ताव मिला कि उपसंकृत दूध ठोस ठोस है, जिसे नृत्\\u200dय में नृत्\\u200dय और मिट्टी में जमा किया जा रहा है ।', \"इसके कारण, बंगाल के एक दिन में एक अच्छा जाम उसके लिए एक 'जीवन पंक्ति' होगा।\", '\"\"\"\"\"\"\"\"\"\"\"\"\"\"\"\"\"\"\"\"\"\"\"\"\"\"\"\"\"\"\"\"\"\"\"कि\"\"\"\"\"\"\"\"\"\"\"\"\"\"\"\"\"\"\"\"\"\"\"\"\"\"\"\"\"\"\"\"\"\"\"\"\"\"\"\"\"\"\"\"\"\"\"\"\"\"\"\"\"\"\"\"\"\"\"\"\"\"\"\"\"\"\"\"\"\"\"\"\"\"\"\"\"\"\"\"\"\"\"\"\"\"\"\"\"\"', 'ले जाने के लिए आधिकारिक एयरलाइन', 'विमान पूरी तरह से भर गया था, उन्होंने कहा, \"और यह उड़कर उड़ गया।\"', 'एनएसएएसआईएसआईए \"\"अनुशादेश\"\"\"\"\"\"\"\"\"\"\"\"\"\"\"\"\"\"\"\"\"\"\"\"\"\"\"\"\"\"\"\"\"\"\"\"\"\"\"\"\"\"\"ज्\\u200d\"\"\"\"\"\"\"\"\"\"\"\"\"\"\"\"\"\"\"\"\"\"\"\"\"\"\"\"\"\"\"\"\"\"\"\"\"\"\"\"\"\"\"\"\"\"\"\"\"\"\"\"\"\"\"\"\"\"\"\"\"\"\"\"\"\"', 'मुख्\\u200dय सिंह विश्\\u200dवविद्यालय, डॉ. असम जम्मा जंद्र जंद्रा, सेंद्र जर्नली शंखनाथ और राज्\\u200dय को इस अवसर पर सम्मानित किया गया था।', 'विमान संरक्षण, आदेश गिर जाते हैं', '$1 अरब से $.1 अरब तक रोधा।', '30 सितंबर, 31 से अभयित हुए थे ।', 'चोरी के बाद, डाकुओं ने गोलीबारी को छोड़ दिया।', 'जब युवाओं पर आक्रमण करने का प्रयास किया गया, तो उन्होंने रोऊ को निकाल दिया।', 'शूटिंग ने क्षेत्र में आतंक पैदा किया।', 'बासथ दिमा, 42, अपराध के स्वामी का नि:संतुलन के लिए जानकारी प्रदान करेगा', 'उन्\\u200dहोंने कहा, \"यदि कोई कानून को नहीं जानता, तो यह एक आपराधिक कर्मचारी है।\"', 'दैनिक राष्ट्र के अनुसार, \"\"तो भी बहुत अच्छा है, अधिकतर एफएम स्टेशनों को नुकसान पहुँचाने के लिए।\"', '\"\"\"\"\"\"\"\"\"\"\"\"\"\"\"\"\"\"\"\"\"\"\"\"\"\"\"\"\"\"\"\"\"\"\"\"\"\"\"\"\"\"\"\"\"\"\"\"\"\"\"\"\"\"\"\"\"\"\"\"\"\"\"\"\"\"\"\"\"\"\"\"\"\"\"\"\"\"\"\"\"\"\"\"\"\"\"\"\"\"\"\"\"\"\"\"\"\"\"\"\"\"\"\"\"\"\"\"\"\"\"\"\"\"\"\"\"\"\"\"\"\"\"\"\"\"', 'जेनी स्\\u200dलेट दोनों \"\"शनवार रात के जीवित रहने वाले\" और \"पचक और मनोरंजन\"\"\"\"\"\"\"\"\"\"\"\"\"\"\"\"\"\"\"\"\"\"\"कांत्र वीडियो श्रृंखला के लिए सबसे अधिक प्रसिद्ध है, जबकि वह \"\"\"\"\"\"\"\"\"\"\"\"\"\"\"\"\"\"\"\"\"\"\"\"\"\"\"\"\"\"\"\"\"\"\"\"\"\"\"\"\"\"\"\"\"\"\"\"\"\"\"\"\"\"\"\"\"\"\"\"\"\"\"\"\"\"', 'केट और स्लेट, साथ ही अन्य युवाओं के साथ-साथ अन्य नवाबों (संवृष्\\u200dयवादी नर नर येलिक, अंगुष्\\u200dय, जातीय रूप से ध्यान केंद्रित व्\\u200dयकंकृत व्\\u200dय्\\u200dय्\\u200dय्\\u200dय्\\u200dय्\\u200dय्\\u200dय्\\u200dय्\\u200dय्\\u200dय्\\u200dय्\\u200dय्\\u200dय्\\u200dय्\\u200dय्\\u200dय्\\u200dय्\\u200dय्\\u200dय्\\u200dय्\\u200dय्\\u200dय्\\u200dय्\\u200dय्\\u200d', 'दिसंबर 1999 को दिसंबर के लिए बेचंट यू.एस.एस.एस.एस.एस.एस. एस.', 'मैं डॉक्टर, घाव और पैरों से निर्मित मुख्\\u200dय कार्य का पालन करता हूं।', 'स्\\u200dथाप स्\\u200dथाप शायद एक-दूसरे से जुड़े हुए थे ।', 'नई जर्मन कानून \"एक अच्छी चीज की तरह मजबूत\"\"\"\"\"\"\"', 'डॉकर ने कहा, \"\"\"\"\"\"\"\"\"\"\"\"\"\"\"\"\"\"\"\"\"\"\"\"\"\"\"\"\"\"\"\"\"\"\"\"\"\"\"\"(\"\"\"\"\"\"\"\"\"\"\"\"\"\"\"\"\"\"\"\"\"\"\"\"\"\"\"\"\"\"\"\"\"\"\"\"\"\"\"\"\"\"(\"\"\"\"\"\"\"\"\"\"\"\"\"\"\"\"\"\"\"\"\"\"\"\"\"\"\"\"\"\"\"\"\"\"\"\"\"', '18 में उन्हें एक राज्\\u200dयशाला के लिए नियुक्त किया गया था।', 'उन्हें जो पता चला, वह बहुत परेशान हो गया था।', 'उसे ऑपरेशन के लिए तैयार किया जाता है।', 'लेकिन एनना ओ-मैटी, कैलिफ़ी, कैलिफ़ोर्निया-आधारित कानूनी समूह के लिए निदेशक, चिंताएं कि जर्मन कानून \"\"क्षा और कलंक\"\"\"\"\"\"\"\"।', '\"\"\"\"\"\"\"\"\"\"\"\"\"\"\"\"\"\"\"\"\"\"\"\"\"\"\"\"\"\"\"\"\"\"\"\"\"\"\"\"\"\"\"\"\"\"\"\"\"\"\"\"\"\"\"\"\"\"\"\"\"\"\"\"\"\"\"\"\"\"\"\"\"\"\"\"\"\"\"\"\"\"\"\"\"\"\"\"\"\"\"\"\"\"\"\"\"\"\"\"\"\"\"\"\"\"\"\"\"\"\"\"\"\"\"\"\"\"\"\"\"\"\"\"\"\"', 'एनटीटीटी के अनुसार उन्होंने कहा, \"\"\"\"\"\"\"\"\"\"\"\"\"ए\"\"\"\"\"\"\"\"\"\"\"\"\"\"\"\"\"\"\"\"\"\"\"\"\"\"\"\"\"\"\"\"\"\"\"\"\"\"\"\"\"\"\"\"\"\"\"\"\"\"\"\"\"\"\"\"\"\"\"\"\"\"\"\"\"\"\"\"\"\"\"\"\"\"\"\"\"\"\"\"\"\"\"\"\"\"\"\"\"\"\"\"\"\"\"\"\"\"\"\"\"\"\"', 'हालांकि, ओबमा को पता था कि ओबमा अपनी टीम की तलाश कर रहा था या नहीं।', 'एक चमक-इन आइसक्रीम को आकर्षक लगता है?', 'इसलिए हर बचत से मुझे 14 रुपए का खर्चा मिलता है।', 'यही मामला वैजीपुर, आन्\\u200dद्री बाजार, रोनंग, अशकपुर, केंद्रीय बाजार, और पीएर में केंद्रीय बाजार के मामले में था ।', 'महिलाओं को लैंगिक पेशेवर नहीं होना चाहिए; वे दाल, बर्गर्स और कारबार जैसे लैंगिक भोजन भी हो सकते हैं।', 'जब यह मिठाई के लिए आता है, तो हम चारों ओर से खराब नहीं होते हैं।', 'आंतरिक में सीटों और छह आयामी पट्टियों के साथ-साथ एक संयोजन प्रणाली को आगे बढ़ाया गया है।', 'एकपी पूर्व गांधी गांधी, फायरर लाइसेंस का मुख्य, असम कुमार, कवर्\\u200dवधा भी आगक बाजार में चला गया।', 'इसी कारण आगक विक्रेताओं को चिंतित किया गया था।', 'रुपये के रुपये की कमी अशोक लग रही थी।', 'अग्नि सेना अद्भुत थी।', 'हम सिर्फ इतना आभारी हैं और उनमें से प्रत्येक का बहुत बड़ा था।', 'पुनप आगे कहता है: \"शायद वह उसे किसी और के साथ परेशान कर रही है।\"', 'तो, तो, एक गैर ऐतिहासिक, तो।', 'यह बाघ को कहां छोड़ देता है?', 'प्रारंभिक विकास: जल्दी बढ़ रहा है', 'एक अधिक तेजी से प्रगति का प्रावधान रोग या खोल जैसे गंभीर समस्याओं का समाधान करने के लिए एक आगामी वैज्ञानिक द्वारा जाँच का प्रावधान कर सकता है।', 'विश्\\u200dवभर में, प्रारंभिक विकास के लिए जलवायु की आर्थिक परिस्थितियों से सभी पर प्रभाव पड़ता है ।', '\"\"\"\"\"\"\"\"\"\"\"\"\"\"\"\"\"\"\"\"\"\"\"\"\"\"\"\"\"\"\"\"\"\"\"\"\"\"\"\"\"\"\"\"\"\"\"एद्रंत्रालय सिटी, न्यू जर्सी, न्यू जर्सी में पीट्\\u200dयस्\\u200dथास्\\u200dथास्\\u200dथास्\\u200dथास्\\u200dथास्\\u200dथास्\\u200dतक के विकास विज्ञान विज्ञान के विकास विज्ञान के बारे में, डॉ.', 'गुरुवार में लोगों को बाजारों के लिए और उनकी दूसरी मंज़िलों को पहने हुए छोड़ दिया गया।', 'जिन लोगों को संक्रमण के स्तर में बढ़ते रहने के लिए बार-बार दिया जाता था, उन्हें महँगी और सस्ता साबित किया जाता था।', 'वन विभाग, जिसके उत्तर देते हुए, ने कहा कि माननीय-फ्\\u200dय, पुस्\\u200dतकता एक प्राकृतिक मृत्यु हो गई थी ।', 'शुक्रवार को कर्नाट के शरीर पर सी.टी.आर.आर. और कोवध्\\u200dय भारत और कोवृष्\\u200dय महादेवों के बंधनों की उपस्थिति में कर रहे थे, सी.टी.टी.आर. ई. पी. पी. पी. पी. पी.आई. पी. पी. पी. पी. पी.आई.आई.) के निदेशक, सी. डी. डी. डी., डी. पी.', 'स्रोतों के अनुसार, ऑटोटी के दौरान, पुस्फीति के आंतरिक अंगों को नुकसान पहुँचाने के लिए रिपोर्ट की गई थी।', 'विभाग अधिकारी पुस्\\u200dतकीय उत्तर दे रहे हैं, जो की मृत्यु के बारे में है।', 'इस्राएलई युद्ध ने सीरिया के अंदर हुए आक्रमण को लेकर आक्रमण किया, अधिकारी कहते हैं', '4557 वसंतों में विदेशी श्रमिक \"\"वृत्\\u200dय\" परीक्षा का सामना कर सकते थे', 'यदि \"\"अनुष्\\u200dयता को गोद लिया गया था तो \"\"\"\"\"\"\"\"\"\"\"के बारे में विनियमित किया जा सकता था,\"\"\"\"\"\"\"\"\"\"\"\"\"\"\"\"\"\"\"\"\"\"\"\"\"\"\"\"\"\"\"\"\"\"\"\"\"\"\"\"\"\"\"\"\"\"\"\"\"\"\"\"\"\"\"\"\"\"\"\"\"\"\"\"\"\"\"\"\"इन्\\u200dथारक्\\u200dथाक्\\u200dथान\"\"\"\"\"\"\"', \"गुजरात नृत्\\u200dयक नृत्\\u200dय का 'नास्\\u200dतकक’ नृत्\\u200dय्\\u200dय्\\u200dय्\\u200dय्\\u200dय्\\u200dय्\\u200dय्\\u200dय्\\u200dय्\\u200dय्\\u200dय्\\u200dय्\\u200dय्\\u200dय्\\u200dय्\\u200dय्\\u200dय्\\u200dय्\\u200dय्\\u200dय्\\u200dय्\\u200dय्\\u200dय्\\u200dय्\\u200dय्\\u200dय्\\u200dय्\\u200dय्\\u200dय्\\u200dय्\\u200dय्\\u200dय्\\u200dय्\\u200dस्\\u200d\", 'लोगों को 1 आर.एस. के दैनिक शुल्क के लिए पार्क में आने में सक्षम किया जाएगा।', 'अधिकारी को चिंता है कि वे फाइलों को उपन-शिक्षक के सामने पेश करेंगे।', 'अदर के सैनिक विद्रोह कर रहे हैं, उनमें से कई सिगरा में अल-Qडा समूह से जुड़े हुए हैं।', 'पुलिस मंत्री ने कहा कि जिन लोगों को गिरफ्तार किया जाता है और उन पर दोष लगाया जाता है, वे हंगाल राज्\\u200dय्\\u200dय राज्\\u200dय्\\u200dय राज्\\u200dय्\\u200dय्\\u200dय्\\u200dय्\\u200dत हैं ।', 'रचित प्रधान कार्यालय (आत) के बालर सिंह दृश्य से भाग गए हैं।', 'न केवल यही, बल्कि वे मूल पंडित दस्तावेजों को नष्ट करने के लिए प्रयोग करते थे और तब झूठे नृत्\\u200dय दस्तावेजों को रिकॉर्ड में अद्यतन किया गया था।', 'फिर अभिकलितों ने भूमि को रुपये के गड़ों के लिए नक़ली कागज़ों से बेचने के लिए उपयोग किया।', 'नक़ली पंजीकरणों के आरोपों को विशेष रूप से एनआरआईजी योजनाओं में जोड़ा गया था।', 'उन्होंने कहा, \"उन्होंने खुद को नहीं छोड़ा,\" श्री कोविड ने कहा।', 'उपकरणों के उपयोग के रूप में लागू करने के लिए प्रतिबंध भी अधिक कठिन हो गए हैं।', 'बल्\\u200dय के गांधींद्री मिल, बल्\\u200dय्\\u200dय में बल्\\u200dय का नया गैस युग शुरू हो जाता है', 'सन 2015 में जब पूरा प्रोजेक्ट काम शुरू हो जाएगा, तो बल्\\u200dयकाल में बल्\\u200dय उद्योग की उपभोक्ताओं को दक्षिण संरक्षण से गैस मिलेगी।', 'हर कोई हंसी करना सुनिश्चित है।', 'उनकी मां डॉना, 30 ने कहा: \"\"नान और कृति एक महान दोहरे कार्य हैं।\"', 'अखाड़े में विदेशीों को पूरा करना', 'श्रीमती कबेल ने कहा: \"पूरी जगह बिजली थी और सभी को खुशी हुई थी।\"', 'न्यायाधीशों ने प्रदर्शन की अंगूठी में जिस तरह से प्रस्तुत किया गया था, उस पर वे कितनी अच्छी तरह से मुड़ गए और उनका ध्यान आकर्षित किया गया।', \"चीन के निवेदन कागज 'परादेशित किया जा रहा है'\", '\"\"\"\"\"\"\"\"\"\"\"\"\"\"\"\"\"\"\"\"\"\"\"\"\"\"\"\"\"\"\"\"\"\"\"\"\"\"\"\"\"\"\"\"\"\"\"\"\"\"\"\"\"\"\"\"\"\"\"\"\"\"\"\"\"\"\"\"\"\"\"\"\"\"\"\"\"\"\"\"\"\"\"\"\"\"\"\"\"\"\"\"\"\"\"\"\"\"\"\"\"\"\"\"\"\"\"\"\"\"\"\"\"\"\"\"\"\"\"\"\"\"\"\"\"\"', 'मैंने अपने अपराध को महसूस किया है।', 'नृत्\\u200dय, अकादमी, मध्\\u200dयक, विशाल ज़मीन की नृत्\\u200dय नदी में प्रवेश करते हैं ।', '\"\"\"\"\"\"\"\"\"\"\"\"\"\"\"\"\"\"\"\"\"\"\"\"\"\"\"\"\"\"\"इन्\\u200d\"\"\"\"\"\"\"\"\"\"\"\"\"\"\"\"\"\"\"\"\"\"\"\"\"\"\"\"\"\"\"\"\"\"\"\"\"\"\"\"\"\"\"\"\"\"\"\"\"\"\"\"\"\"\"\"\"\"\"\"\"\"\"\"\"\"\"\"\"\"\"\"\"\"\"\"\"\"\"\"\"\"\"\"\"\"\"\"\"\"\"\"', 'नृत्\\u200dय विज्ञान के नृत्\\u200dय विश्\\u200dवविद्यालय के एक साथी, डॉ.', 'नेथनएल पी. टी. टी. टी. डी.', '\"\"\"\"\"\"\"\"\"\"\"\"\"\"मायेन की हत्या करने के लिए \"\"\"\"\"\"\"\"\"\"\"\"\"\"\"\"\"\"\"\"\"\"\"\"\"\"\"\"\"\"\"\"\"\"\"\"\"\"\"\"\"\"\"\"\"\"\"\"\"\"\"\"\"\"\"\"\"\"\"\"\"\"\"\"\"\"\"\"\"\"\"\"\"\"\"\"\"\"\"\"\"\"\"\"\"\"(\"\"\"\"\"\"\"\"\"\"\"\"\"\"\"\"\"', 'लेकिन, उन अनगिनत कालों के बाद, जिनमें मैंने सहयोगीों और साथियों के प्रति ओबमा प्रशासन की रक्षा की है, मैं उन बातों की सीमा तक पहुँच गया हूं जो मैं प्रदान कर सकता हूं।', 'इस मैदान के कारण दुख उठाना पड़ा।', 'वे अब पुलिस और प्रशासन प्रणाली से नहीं डरते हैं।', 'दोनों व्यापारियों को खुली हुई जांच में सबसे पहले आरएसएस कर्मचारियों को निलंबित किया जाएगा, जो इंफ्रारो स्ट्रीट को बदनाम करने के लिए इस्तेमाल किया जाता है।', 'छात्रों ने बी.टीटी, एम.ए, पी.ए, बी.ीस्फीय, भारत विज्ञान, महाराष्ट्रीय प्रबंधन और परिसर पर आयोजित दो दर्जन से अधिक पाठ्यक्रमों में शामिल किया है, अपने प्रतिनिधि का चयन करने में सक्षम होंगे।', 'अकाश जयवल, भाग एवीपी', 'कर्टिक महीने के तेरहवें दिन को नृत्\\u200dय के रूप में मनाया जाता है, जिसे एक खुश दि अली का प्रतीक माना जाता है।', 'पैसा न तो अच्छा है और न ही बुरा।', 'आत्म-संकृत से प्राप्त केवल धन लंबे समय तक बना रहता है।', 'फिर, भालू बच्\\u200dब्\\u200dब्\\u200dला और मध्\\u200dय में छिपा हुआ है।', 'अधिकारी ने भी उन तक पहुंचना शुरू कर दिया है।', 'इसके दौरान, ऐसे छात्रों और छात्रों को, जिन्होंने विश्वविद्यालय में सबसे अधिक स्थिति हासिल की है, \"\"शृत्\\u200dय अलंकृत\\' को सम्मानित किया जाता है।\"', 'मुख्य आवासीय जिला संग्रह, एनविडवीं स्\\u200dथाव, और विशेष मेहमान, डॉ. जी. प्रभागी ने प्रबंधन पहलों की सराहना की।', 'इस समारोह के अंत में सभी मेहमानों को चादर और मेले दिए गए।', 'इस समारोह के दौरान अनाव शावरी और जैनी ने मदद की।', 'पीईबी निदेशक, तरन्\\u200dद्र पीर ने कहा, \"अगर एसएफ हमें संदेही छात्रों की सूची देता है, तो उनकी स्वीकृति तुरंत रद्द हो जाएगी।\"', 'पोन्\\u200dद्र सम्मेलन कॉन्फ्रेंस समिति के संवर्\\u200dय, ईज्\\u200dय ने गुजरात आधार पर एक जल को तैयार किया ।', 'पीटीम मंत्रालय इसके लिए पूरी तरह से तैयार है।', 'हरिया के लिए बुनियादी कोटा को 70% से कम कर दिया गया था और इसे लगभग 40% तक कम किया गया था।', 'यह उन लोगों को प्रोत्साहित करता है जो विकास करते हैं।', 'इस समुदाय ने नृत्\\u200dय-5 नाम के मृष्\\u200dय बाज़ार में भाग लिया।', 'अब तक, इनडोटर्स के आठ व्यापारियों ने नृत्\\u200dय कक्ष के प्रति शिकायतओं के साथ आगे बढ़ाया है।', 'एजेंटों ने लोगों को बहुत अच्छे परिणाम के वादों के साथ शामिल होने के लिए प्रलोभित किया।', 'इसके बाद, कुछ लोगों ने पाँच लाख रुपये के बीच निवेश किया।', 'ताम एक ही दिन में बांग्लादेश का सबसे ऊँचा भाग बन गया।', 'साइकिल को पीपको के जंगलों के पास छोड़ दिया गया था।', 'साइकिल जेआरआईओ के पोस्टमैन कुटिया के थे।', 'गेट सिटी हाउस परियोजना कार्यालय, जो पंब राज्य ऊर्जा निगम के लिए हर दिन रुपये का पैसा कमाता है, एक इमारत के पुराने विनाश में घर किया जाता है।', 'सोफीटी टीम को पहले भारित करते हुए, भारती टीम दूसरी आई और रोटक टीम तीसरी जगह पर आई।', 'महिलाओं के खेलों के राज्य स्तर पर महिलाओं को मजबूत करना विशेष रूप से प्रभावी साबित हुआ है।', 'कांग्रेस के साथियों ने हर दिन ढोलों को छोड़ दिया।', 'सैम हंग, नीना, एचटी और रॉकी के लिए प्रतिनिधि तुरंत पहुँच नहीं सकते थे।', 'नेशनल उत्पादकों पर चट्टानी तारों को खोने के बाद, गूगल ने 50,000 अरब रुपये के लिए मोटराटो मोशाथ प्राप्त करने के लिए आगे बढ़ा, कुछ हद तक ऋणियों के पुस्तकालय द्वारा प्रेरित किया गया।', 'ब्रागात अपने प्रयासों पर ध्यान केंद्रित करेगा, जो गुजरात में आयोजित सम्मेलन में आयोजित की जाएगी।', 'अमृत और सार्वजनिक स्वास्थ्य विभाग सहायक, अशकमार कुमार शंती, को प्रधानमंत्री उप-विडीय क्षेत्र में स्थानांतरित कर दिया गया है।', 'बलों को बिहार, राजंदन और नृत्\\u200dयी में संरक्षण प्रदान करने वाले स्टेशनों की रक्षा कर रहे हैं।', 'चुनावों के दौरान, आगामी आक्रमण की संभावना के बारे में सूचना दी।', 'गोयलों के साथ-साथ कैद भी किए जा रहे हैं।', 'चुनावों और दिली के दौरान किसी भी दृश्य से दूर रहने के लिए प्रयास किए जा रहे हैं।', 'उसके बाद, उन्होंने स्\\u200dथाप को जारी रखा ।', 'फिर उन्होंने उसके साथ दुर्व्यवहार करना जारी रखा, हमेशा खतरे में।', 'यात्रा एजेंट इंटरनेट के पिछले धन्यवाद की बात कर रहे थे?', 'उड़ान सेंटर साझेदारी $38.20 कल में 3 बजे थी।', 'यू.एस.एस.एस.एस.ए.ए.ए.एन.ए.ए.ए.ए.ए.ए.ए.ए.ए.ए.ए.ए.ए.', 'जब वह मरा तो वह 6,000 करोड़ करोड़ रुपये का था।', 'इस कार्यक्रम में जेकेन ने \\'केसाड़ी\\' को \\'केद्र\\' कहा, \\'कंद्री\\', जई काशी\\', जई कांद्री कांद्री\\', \\'गंद्र\\' और ज्\\u200dयंद्रा\\', जंद्रा-कंख, जंद्रा-कंद्रा के कार्यक्रम प्रस्तुत किए गए थे। \"\"\"\"\"\"\"\"\"\"\"\"\"\"\"\"\"\"\"\"\"\"\"\"\"\"\"\"\"\"\"\"\"\"\"\"\"\"\"\"\"\"', 'उनकी भाग्य हमेशा से बाहर नहीं होती है।', '\"\"\"\"\"\"\"\"\"\"\"\"\"\"\"\"\"\"\"\"\"\"\"\"\"\"\"\"\"\"\"\"\"\"\"\"\"\"\"\"\"\"\"\"\"\"\"\"\"\"\"\"\"\"\"\"\"\"\"\"\"\"\"\"\"\"\"\"\"\"\"\"\"\"\"\"\"\"\"\"\"\"\"\"\"\"\"\"\"\"\"\"\"\"\"\"\"\"\"\"\"\"\"\"\"\"\"\"\"\"\"\"\"\"\"\"\"\"\"\"\"\"\"\"\"\"', 'लेकिन एक बार जब वे यरे, अपने बोर्ड, परिवहन और दिशा में आते हैं, तो वे बंगाल से ढके होते हैं।', '\"वह एक नायक है, बिना किसी संदेह के,\" ओ\\'एमली ने कहा।', 'जैसा कि भविष्यवाणी की गई है, गुजरात से गोविन सिंह, कंगाली और बंगाल से नृत्\\u200dय प्रसाद फिर से उम्मीदवार हैं।', 'बीजेपी और संसद के नृत्\\u200dय कुस्\\u200dयक के महत्\\u200dवक एक दूसरे का सामना करेंगे।', 'प्रधानमंत्री की पत्नी, अकादमी नाक के अंत में एमएल, ब्रंज्रा सिंह राथ के साथ वर्तमान में चल रहा है।', 'खणी केएमएल शंखी और बिहार सिंह सिंह का सामना करने के लिए मुख्\\u200dय के रूप में किया जाएगा।', 'गोविन राज्\\u200dय राज्\\u200dय राज्\\u200dय राज्\\u200dय, फ़ू के युवा नेता बीपी द्वारा चुनौती दी जा रही है।', 'राज्य राष्ट्रपति राम राज्\\u200dयम्\\u200dय और सचिव शिवशामा के रूप में, कई अन्य अधिकारियों के साथ चुनावों का आयोजन किया जा रहा है, सचिव रामी नृत्\\u200dय को केवल संगठन से निपटने के लिए छोड़ दिया गया है।', 'संघ द्वारा एक रंगीन कार्यक्रम आयोजित किया गया।', 'ओबमा की स्वास्थ्य देखभाल पीछे जाती है', 'कल, ओबमा ने अपनी मूल शपथ को कम कर दिया।', 'अगर उन्हें कोई पैसा नहीं मिलता तो उनकी बेटी का अपहरण किया जाएगा।', 'नरेन्\\u200dद्र (21) अशोक शहर के निवासी, एक इलेक्ट्रॉनिक दुकान का मालिक है ।', 'सरकारी चिकित्सा कॉलेज और अस्पताल (जीएमसीएच) में, चिकित्सा विज्ञान के राष्ट्रीय संस्थान के अध्यक्ष, यू. एस. ए. डी. डी. डी. डी.', 'उनके लिए अनुसंधान और प्रयोग का पीछा करना संभव बनाने के लिए $ मिलियन रुपये दिए गए थे।', 'इसके बावजूद, उनके कुछ उपासकों का अंधविश्\\u200dवास जारी रहता है ।', 'कांग्रेस के प्रतिनिधि, जय जयी ने इस घटना में भी नृत्\\u200dयंत, जैनी के काल, देवब्\\u200dय व्\\u200dय, बल्\\u200dयना, भारती, कोलकाता, अशोमक, डॉ. शंखंग, गुंख, म्\\u200dधा और नृत्\\u200dय में भी उपस्थित थे ।', 'जर्मन-अमेय मॉडल कंगाल के प्रशंसकों को अपने किए पर आश्चर्य हुआ।', 'बहुत से युवाओं के दिल पर जोर है, उसे पहचानना इतना कठिन लग रहा था।', 'एल. एन. मत्\\u200dवल, स्\\u200dव्\\u200dयंकर और भारती सरकारों का कपड़ा, अकामीर खान और ई.आर. भगवान पहले से ही गुरुवार शाम को ज्\\u200dयपुर में आए हैं।', 'दाखतिया शहर के छात्र द्वितीय विद्यालय के छात्रों ने \"डंगोगंग\"\"गोह\" के निर्माण के माध्यम से अपनी कल्पना शक्ति को प्रदर्शित किया।\"', 'राम सारत की जांच की।', 'नृत्\\u200dयक कुव्\\u200dय, व्\\u200dयभ्\\u200dय गीतक जैसे छात्र, सिल मेल मेशम को इमारत बनाने में भाग लेते थे ।', 'नागर्\\u200dयद, रयविष्\\u200dमक ने कल्याणवादीों से संदेश प्रस्तुत किए।', 'कोरोल के पति कृष अनिष्\\u200dय हैं ।', 'इस सूचना को डीटीओ कार्यालय वितरण अधिनियम पर रखा गया है।', 'बंगाल बंगाल स्टॉक्स, होश, 13050 बिंदुओं से लेकर 21164.52 बिंदुओं तक पहुंचने के लिए निकल पड़ा और राष्ट्रीय स्टॉक विनिमय को 6245 बिंदुओं तक पहुंचा दिया गया।', 'जैनी ने, ए.क.क.: ए.बाद सड़क का एक घातक दिन था, जब अनेक घातक दुर्घटनाओं का सामना किया जाता था।', 'उनकी मृत्यु के कारण पर्\\u200dयभ्\\u200dय के निवासियों ने आगामी मार्ग को रोका ।', 'यह गति ट्रक की पीठ से टकराती थी।', 'मुगलि में मुगल पास्टर सिंह, जो सामने बैठे थे, तुरंत मार डाला गया।', 'ड्राइवर यंकब और कंडेबल आरविन, रामा और राम नेश को घायल कर दिया गया।', 'सोने के पट्टों और सिक्कों के लिए मांगी और कमजोर आर्थिक स्थिति के कारण नीचे गई है और इससे उनके आकर्षण को कम किया गया है।', 'खरीदों का रवैया बदल गया है।', 'PSS के मुख्य ने बैठकों का उपयोग किया है।', 'लगभग 830 प्रधानमंत्री ने एक पट्टी को अचानक अग्निमय बनाया।', 'अववनी गुजरात जिला से है।', 'समुदाय के लोग इस स्थान पर आए।', 'परिषद ऑफ अकाव आए।', 'पुत्री, महिला की मां और उनके चाचा पुरन एलर्वामा को जंद्र में आने के लिए फोन से कहा गया था।', 'उसके दोनों पैर बिखरे हुए हैं।', 'यात्री गंदी और चालक, स्वामी कीशमा के पुत्र कुंग (पुरुषी) को बुरी तरह से घायल कर दिया गया।', 'पूर्व सम्मेलन के लिए केवल अकादमीय शास्\\u200dत्रक ही पूर्वी सम्मेलन का एक भूतपूर्व सदस्य था ।', 'उम्मीदवारों के इस घोषणा के बाद, श्रमिकों ने अपने क्षेत्रों में उत्सव मनाया।', 'जनरल सचिव से मिलने के लिए जो लोग जाते थे, वे जीहिम मोदी मोदीन, मान्नात सिंह, महाराज सिंह, नृत्\\u200dयभ्\\u200dयदेव, लेन्\\u200dयभ्\\u200dयदेव, रावंशांद और शंती थे ।', 'इस्लामी मानचित्र के लिए अनुप्रयोग की तारीख पर कोई वृत्त प्रकाशित नहीं किया गया था, जिसमें कर्मियों के बीच कुछ गड़बड़ी पैदा हुई थी।', 'इसके कारण, माता-पिता उच्च न्यायालय के पास आए।', 'नए शब्द के मात्र 5 महीनों के बाद, ऋण के अचानक संशोधन से माता-पिता को आश्चर्य होता है।', 'इसके बावजूद, स्कूल ने प्रतिक्रिया नहीं दिखाई और अंततः माता-पिता को उच्च न्यायालय जाना पड़ा।', 'आपातकालीन कांग्रेस नेता डेवॉट बारह के दौरान \"\"\"इनरा भारत है\"\"\"\"\"\"\"\"\"\"\"\"\"\"का प्रयोग किया गया।', 'वर्तमान में, हर छोटी या बड़ी पार्टी का अपना प्रतीक है।', \"सेथ गोविनस, कमलालाम्ी ने आगे कहा कि 'बीटी'।\", 'उपजातीय विभाजनों से सैकड़ों कनेक्शनों को एक और दो से अलग कर दिया गया है और शिशु उपल उपलाक्षरों से अलग कर दिया गया है।', 'उपराष्ट्रीय संख्या में एक कार्यालय ने एक सूचना भी दी है जिसमें कहा गया है कि \"एक भाग प्रदान करने के लिए अनुरोध करके हमें शर्मिंदा न करें\"\"\"\"\"\"\"\"\"\"\"\"\"\"\"\"\"', 'लक्ष्य से मिलने का आदेश दिया गया है।', 'इसने बिना किसी कारण के यात्रियों की संख्या कम कर दी है।', 'सेवानिवृत्त अधिकारियों के एक समूह का अचानक दर्शन ऐसे कई निर्णयों में परिणाम देगा।', 'मंडी लखमी ने पहले पुरस्कार जीता और शिलवा ने दूसरा पुरस्कार जीता।', 'जब पुलिस उस जगह पर पहुँची तो उन्हें मरा हुआ पाया।', 'बी.एम.ओ भी दूर था।', 'एक कम से कम उच्च पदाकांत्रीय कार्यालय को संभाल रहा था, जबकि अन्य अधिकारी गायब थे।', 'इस कथन से एक बड़ा फ़ूड हुआ।', 'सोना, चांदी और बर्तन आज लोकप्रिय खरीद रहे हैं।', 'इस लोक विक्रेताओं के कारण उनकी दुकानों को पहले ही सजाया जा चुका है।']\n"
     ]
    }
   ],
   "source": [
    "print(ambiguous_eng)\n",
    "print(ambiguous_orig)\n",
    "print(ambiguous_pred)"
   ]
  },
  {
   "cell_type": "markdown",
   "metadata": {},
   "source": [
    "Cosine Similarity"
   ]
  },
  {
   "cell_type": "code",
   "execution_count": 11,
   "metadata": {},
   "outputs": [],
   "source": [
    "Cosine_sim=[]\n",
    "sim_count=[0]*10"
   ]
  },
  {
   "cell_type": "code",
   "execution_count": 12,
   "metadata": {},
   "outputs": [
    {
     "name": "stdout",
     "output_type": "stream",
     "text": [
      "[37, 130, 307, 512, 665, 721, 445, 175, 30, 5]\n"
     ]
    }
   ],
   "source": [
    "for i in range(len(df)):\n",
    "    token_pred=nltk.word_tokenize(pred[i])\n",
    "    token_orig=nltk.word_tokenize(orig[i])\n",
    "    pre1=' '.join(token_pred)\n",
    "    pre2=' '.join(token_orig)\n",
    "    vectorizer=CountVectorizer(tokenizer=lambda text: text.split(),token_pattern='')\n",
    "    vectorizer_text=vectorizer.fit_transform([pre1,pre2])\n",
    "    sim=cosine_similarity(vectorizer_text)[0][1]\n",
    "    Cosine_sim.append(sim)\n",
    "    index=int(sim*10)\n",
    "    if index==10 or index==9:\n",
    "        index=9\n",
    "    sim_count[index]+=1\n",
    "print(sim_count)"
   ]
  },
  {
   "cell_type": "code",
   "execution_count": 13,
   "metadata": {},
   "outputs": [
    {
     "data": {
      "image/png": "[encoded data removed]",
      "text/plain": [
       "<Figure size 432x288 with 1 Axes>"
      ]
     },
     "metadata": {
      "needs_background": "light"
     },
     "output_type": "display_data"
    }
   ],
   "source": [
    "x_labels = [f\"{i/10:.1f}-{(i+1)/10:.1f}\" for i in range(10)]\n",
    "x_positions = range(len(sim_count))\n",
    "plt.bar(x_positions, sim_count, align='center', alpha=0.7)\n",
    "plt.xticks(x_positions, x_labels, rotation='vertical')\n",
    "\n",
    "plt.xlabel('Cosine Similarity Value')\n",
    "plt.ylabel('No. of Instances')\n",
    "plt.title('Cosine Similarity Values for Test Data')\n",
    "plt.tight_layout()\n",
    "plt.show()"
   ]
  },
  {
   "cell_type": "markdown",
   "metadata": {},
   "source": [
    "BLUE Score"
   ]
  },
  {
   "cell_type": "code",
   "execution_count": 14,
   "metadata": {},
   "outputs": [
    {
     "name": "stdout",
     "output_type": "stream",
     "text": [
      "BLEU Score: 48.76%\n"
     ]
    }
   ],
   "source": [
    "references = []\n",
    "hypotheses = []\n",
    "\n",
    "for sentence in df[\"Hindi\"]:\n",
    "    hypotheses.append(str(sentence))\n",
    "\n",
    "for sentence in df[\"Original\"]:\n",
    "    references.append([str(sentence)])\n",
    "\n",
    "# Calculate BLEU score\n",
    "bleu_score = corpus_bleu(references, hypotheses)\n",
    "\n",
    "print(f'BLEU Score: {bleu_score * 100:.2f}%')"
   ]
  }
 ],
 "metadata": {
  "kernelspec": {
   "display_name": "Python 3",
   "language": "python",
   "name": "python3"
  },
  "language_info": {
   "codemirror_mode": {
    "name": "ipython",
    "version": 3
   },
   "file_extension": ".py",
   "mimetype": "text/x-python",
   "name": "python",
   "nbconvert_exporter": "python",
   "pygments_lexer": "ipython3",
   "version": "3.10.12"
  }
 },
 "nbformat": 4,
 "nbformat_minor": 2
}
